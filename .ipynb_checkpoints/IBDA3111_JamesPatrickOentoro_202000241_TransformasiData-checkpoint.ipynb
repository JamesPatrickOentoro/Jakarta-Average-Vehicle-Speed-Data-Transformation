{
 "cells": [
  {
   "cell_type": "code",
   "execution_count": 1,
   "id": "cc681bea",
   "metadata": {},
   "outputs": [
    {
     "data": {
      "text/html": [
       "<div>\n",
       "<style scoped>\n",
       "    .dataframe tbody tr th:only-of-type {\n",
       "        vertical-align: middle;\n",
       "    }\n",
       "\n",
       "    .dataframe tbody tr th {\n",
       "        vertical-align: top;\n",
       "    }\n",
       "\n",
       "    .dataframe thead th {\n",
       "        text-align: right;\n",
       "    }\n",
       "</style>\n",
       "<table border=\"1\" class=\"dataframe\">\n",
       "  <thead>\n",
       "    <tr style=\"text-align: right;\">\n",
       "      <th></th>\n",
       "      <th>waktu</th>\n",
       "      <th>arah</th>\n",
       "      <th>koridor</th>\n",
       "      <th>target_kecepatan</th>\n",
       "      <th>jarak</th>\n",
       "      <th>target_waktu_tempuh</th>\n",
       "      <th>pencapaian_kecepatan_per_koridor</th>\n",
       "      <th>pencapaian_kecepatan</th>\n",
       "      <th>pencapaian_waktu_tempuh</th>\n",
       "    </tr>\n",
       "  </thead>\n",
       "  <tbody>\n",
       "    <tr>\n",
       "      <th>0</th>\n",
       "      <td>pagi</td>\n",
       "      <td>Selatan - Pusat</td>\n",
       "      <td>Lenteng Agung - Ps. Minggu - Supomo - dr. Saha...</td>\n",
       "      <td>21</td>\n",
       "      <td>19.62</td>\n",
       "      <td>56.06</td>\n",
       "      <td>22.77</td>\n",
       "      <td>24.36</td>\n",
       "      <td>58.82</td>\n",
       "    </tr>\n",
       "    <tr>\n",
       "      <th>1</th>\n",
       "      <td>pagi</td>\n",
       "      <td>Selatan - Pusat</td>\n",
       "      <td>Cilandak KKO - Warung Buncit - Mampang Prapata...</td>\n",
       "      <td>21</td>\n",
       "      <td>13.36</td>\n",
       "      <td>38.17</td>\n",
       "      <td>24.14</td>\n",
       "      <td>24.36</td>\n",
       "      <td>36.88</td>\n",
       "    </tr>\n",
       "    <tr>\n",
       "      <th>2</th>\n",
       "      <td>pagi</td>\n",
       "      <td>Selatan - Pusat</td>\n",
       "      <td>Pangeran Antasari - Prapanca - Iskandarsyah - ...</td>\n",
       "      <td>21</td>\n",
       "      <td>11.13</td>\n",
       "      <td>31.80</td>\n",
       "      <td>29.64</td>\n",
       "      <td>24.36</td>\n",
       "      <td>25.99</td>\n",
       "    </tr>\n",
       "    <tr>\n",
       "      <th>3</th>\n",
       "      <td>pagi</td>\n",
       "      <td>Selatan - Pusat</td>\n",
       "      <td>Pondok Labu - Fatmawati - Panglima Polim - Sis...</td>\n",
       "      <td>21</td>\n",
       "      <td>16.25</td>\n",
       "      <td>46.43</td>\n",
       "      <td>25.82</td>\n",
       "      <td>24.36</td>\n",
       "      <td>44.35</td>\n",
       "    </tr>\n",
       "    <tr>\n",
       "      <th>4</th>\n",
       "      <td>pagi</td>\n",
       "      <td>Selatan - Pusat</td>\n",
       "      <td>Pasar Jumat - Metro Pondok Indah - Iskandar Mu...</td>\n",
       "      <td>21</td>\n",
       "      <td>15.87</td>\n",
       "      <td>45.34</td>\n",
       "      <td>28.18</td>\n",
       "      <td>24.36</td>\n",
       "      <td>37.33</td>\n",
       "    </tr>\n",
       "    <tr>\n",
       "      <th>...</th>\n",
       "      <td>...</td>\n",
       "      <td>...</td>\n",
       "      <td>...</td>\n",
       "      <td>...</td>\n",
       "      <td>...</td>\n",
       "      <td>...</td>\n",
       "      <td>...</td>\n",
       "      <td>...</td>\n",
       "      <td>...</td>\n",
       "    </tr>\n",
       "    <tr>\n",
       "      <th>77</th>\n",
       "      <td>sore</td>\n",
       "      <td>Pusat - Utara</td>\n",
       "      <td>Letjend. Suprapto - Yos Sudarso - Bollevard Ba...</td>\n",
       "      <td>21</td>\n",
       "      <td>20.29</td>\n",
       "      <td>57.97</td>\n",
       "      <td>21.01</td>\n",
       "      <td>23.46</td>\n",
       "      <td>58.78</td>\n",
       "    </tr>\n",
       "    <tr>\n",
       "      <th>78</th>\n",
       "      <td>sore</td>\n",
       "      <td>Pusat - Barat</td>\n",
       "      <td>Hayam Wuruk - Hasyim Ashari - Kyai Tapa - Daan...</td>\n",
       "      <td>21</td>\n",
       "      <td>14.47</td>\n",
       "      <td>41.34</td>\n",
       "      <td>20.41</td>\n",
       "      <td>20.25</td>\n",
       "      <td>45.81</td>\n",
       "    </tr>\n",
       "    <tr>\n",
       "      <th>79</th>\n",
       "      <td>sore</td>\n",
       "      <td>Pusat - Barat</td>\n",
       "      <td>Hayam Wuruk - Balikpapan - Tomang Raya - S. Pa...</td>\n",
       "      <td>21</td>\n",
       "      <td>15.55</td>\n",
       "      <td>44.43</td>\n",
       "      <td>17.41</td>\n",
       "      <td>20.25</td>\n",
       "      <td>56.99</td>\n",
       "    </tr>\n",
       "    <tr>\n",
       "      <th>80</th>\n",
       "      <td>sore</td>\n",
       "      <td>Pusat - Barat</td>\n",
       "      <td>Kebon Sirih - Jatibaru - Katamso - Kemanggisan...</td>\n",
       "      <td>21</td>\n",
       "      <td>17.43</td>\n",
       "      <td>49.80</td>\n",
       "      <td>22.10</td>\n",
       "      <td>20.25</td>\n",
       "      <td>54.92</td>\n",
       "    </tr>\n",
       "    <tr>\n",
       "      <th>81</th>\n",
       "      <td>sore</td>\n",
       "      <td>Pusat - Barat</td>\n",
       "      <td>Kebon Sirih - Jatibaru - Katamso - Kemanggisan...</td>\n",
       "      <td>21</td>\n",
       "      <td>16.23</td>\n",
       "      <td>46.37</td>\n",
       "      <td>21.08</td>\n",
       "      <td>20.25</td>\n",
       "      <td>52.68</td>\n",
       "    </tr>\n",
       "  </tbody>\n",
       "</table>\n",
       "<p>82 rows × 9 columns</p>\n",
       "</div>"
      ],
      "text/plain": [
       "   waktu             arah                                            koridor  \\\n",
       "0   pagi  Selatan - Pusat  Lenteng Agung - Ps. Minggu - Supomo - dr. Saha...   \n",
       "1   pagi  Selatan - Pusat  Cilandak KKO - Warung Buncit - Mampang Prapata...   \n",
       "2   pagi  Selatan - Pusat  Pangeran Antasari - Prapanca - Iskandarsyah - ...   \n",
       "3   pagi  Selatan - Pusat  Pondok Labu - Fatmawati - Panglima Polim - Sis...   \n",
       "4   pagi  Selatan - Pusat  Pasar Jumat - Metro Pondok Indah - Iskandar Mu...   \n",
       "..   ...              ...                                                ...   \n",
       "77  sore    Pusat - Utara  Letjend. Suprapto - Yos Sudarso - Bollevard Ba...   \n",
       "78  sore    Pusat - Barat  Hayam Wuruk - Hasyim Ashari - Kyai Tapa - Daan...   \n",
       "79  sore    Pusat - Barat  Hayam Wuruk - Balikpapan - Tomang Raya - S. Pa...   \n",
       "80  sore    Pusat - Barat  Kebon Sirih - Jatibaru - Katamso - Kemanggisan...   \n",
       "81  sore    Pusat - Barat  Kebon Sirih - Jatibaru - Katamso - Kemanggisan...   \n",
       "\n",
       "    target_kecepatan  jarak  target_waktu_tempuh  \\\n",
       "0                 21  19.62                56.06   \n",
       "1                 21  13.36                38.17   \n",
       "2                 21  11.13                31.80   \n",
       "3                 21  16.25                46.43   \n",
       "4                 21  15.87                45.34   \n",
       "..               ...    ...                  ...   \n",
       "77                21  20.29                57.97   \n",
       "78                21  14.47                41.34   \n",
       "79                21  15.55                44.43   \n",
       "80                21  17.43                49.80   \n",
       "81                21  16.23                46.37   \n",
       "\n",
       "    pencapaian_kecepatan_per_koridor  pencapaian_kecepatan  \\\n",
       "0                              22.77                 24.36   \n",
       "1                              24.14                 24.36   \n",
       "2                              29.64                 24.36   \n",
       "3                              25.82                 24.36   \n",
       "4                              28.18                 24.36   \n",
       "..                               ...                   ...   \n",
       "77                             21.01                 23.46   \n",
       "78                             20.41                 20.25   \n",
       "79                             17.41                 20.25   \n",
       "80                             22.10                 20.25   \n",
       "81                             21.08                 20.25   \n",
       "\n",
       "    pencapaian_waktu_tempuh  \n",
       "0                     58.82  \n",
       "1                     36.88  \n",
       "2                     25.99  \n",
       "3                     44.35  \n",
       "4                     37.33  \n",
       "..                      ...  \n",
       "77                    58.78  \n",
       "78                    45.81  \n",
       "79                    56.99  \n",
       "80                    54.92  \n",
       "81                    52.68  \n",
       "\n",
       "[82 rows x 9 columns]"
      ]
     },
     "execution_count": 1,
     "metadata": {},
     "output_type": "execute_result"
    }
   ],
   "source": [
    "import pandas as pd\n",
    "import pickle\n",
    "df_jan = pd.read_csv('kecepatan-rata-rata-di-41-koridor-jalan-utama-pada-jam-sibuk-januari-2019.csv')\n",
    "df_feb = pd.read_csv('februari-2019-data-kecepatan-rata-rata-di-41-koridor-jalan-utama-pada-jam-sibuk.csv')\n",
    "df_mar = pd.read_csv('maret-2019-data-kecepatan-rata-rata-di-41-koridor-jalan-utama-pada-jam-sibuk.csv')\n",
    "df_apr = pd.read_csv('april-2019-data-kecepatan-rata-rata-di-41-koridor-jalan-utama-pada-jam-sibuk.csv')\n",
    "df_apr = df_apr.rename(columns={'pencapaian_Waktu_tempuh': 'pencapaian_waktu_tempuh'})\n",
    "df_mei = pd.read_csv('mei-2019-data-kecepatan-rata-rata-di-41-koridor-jalan-utama-pada-jam-sibuk.csv')\n",
    "df_jun = pd.read_csv('juni-2019-data-kecepatan-rata-rata-di-41-koridor-jalan-utama-pada-jam-sibuk.csv')\n",
    "df_jul = pd.read_csv('juli-2019-data-kecepatan-rata-rata-di-41-koridor-jalan-utama-pada-jam-sibuk.csv')\n",
    "df_aug = pd.read_csv('agustus-2019-data-kecepatan-rata-rata-di-41-koridor-jalan-utama-pada-jam-sibuk.csv')\n",
    "df_sept = pd.read_csv('september-2019-data-kecepatan-rata-rata-di-41-koridor-jalan-utama-pada-jam-sibuk.csv')\n",
    "df_oct = pd.read_csv('oktober-2019-data-kecepatan-rata-rata-di-41-koridor-jalan-utama-pada-jam-sibuk.csv')\n",
    "df_nov = pd.read_csv('november-2019-data-kecepatan-rata-rata-di-41-koridor-jalan-utama-pada-jam-sibuk.csv')\n",
    "df_des = pd.read_csv('desember-2019-data-kecepatan-rata-rata-di-41-koridor-jalan-utama-pada-jam-sibuk.csv')\n",
    "df_aug"
   ]
  },
  {
   "cell_type": "code",
   "execution_count": 2,
   "id": "ff981cf8",
   "metadata": {},
   "outputs": [
    {
     "name": "stdout",
     "output_type": "stream",
     "text": [
      "waktu                               0\n",
      "arah                                0\n",
      "koridor                             0\n",
      "target_kecepatan                    0\n",
      "jarak                               0\n",
      "target_waktu_tempuh                 0\n",
      "pencapaian_kecepatan_per_koridor    0\n",
      "pencapaian_kecepatan                0\n",
      "pencapaian_waktu_tempuh             0\n",
      "dtype: int64\n",
      "waktu                               0\n",
      "arah                                0\n",
      "koridor                             0\n",
      "target_kecepatan                    0\n",
      "jarak                               0\n",
      "target_waktu_tempuh                 0\n",
      "pencapaian_kecepatan_per_koridor    0\n",
      "pencapaian_kecepatan                0\n",
      "pencapaian_waktu_tempuh             0\n",
      "dtype: int64\n",
      "waktu                               0\n",
      "arah                                0\n",
      "koridor                             0\n",
      "target_kecepatan                    0\n",
      "jarak                               0\n",
      "target_waktu_tempuh                 0\n",
      "pencapaian_kecepatan_per_koridor    0\n",
      "pencapaian_kecepatan                0\n",
      "pencapaian_waktu_tempuh             0\n",
      "dtype: int64\n",
      "waktu                                0\n",
      "arah                                 0\n",
      "koridor                              0\n",
      "target_kecepatan                    41\n",
      "jarak                                0\n",
      "target_waktu_tempuh                  0\n",
      "pencapaian_kecepatan_per_koridor     0\n",
      "pencapaian_kecepatan                 0\n",
      "pencapaian_waktu_tempuh              0\n",
      "dtype: int64\n",
      "waktu                               2\n",
      "arah                                2\n",
      "koridor                             2\n",
      "target_kecepatan                    2\n",
      "jarak                               2\n",
      "target_waktu_tempuh                 2\n",
      "pencapaian_kecepatan_per_koridor    2\n",
      "pencapaian_kecepatan                2\n",
      "pencapaian_waktu_tempuh             2\n",
      "dtype: int64\n",
      "waktu                               0\n",
      "arah                                0\n",
      "koridor                             0\n",
      "target_kecepatan                    0\n",
      "jarak                               0\n",
      "target_waktu_tempuh                 0\n",
      "pencapaian_kecepatan_per_koridor    0\n",
      "pencapaian_kecepatan                0\n",
      "pencapaian_waktu_tempuh             0\n",
      "dtype: int64\n",
      "waktu                               0\n",
      "arah                                0\n",
      "koridor                             0\n",
      "target_kecepatan                    0\n",
      "jarak                               0\n",
      "target_waktu_tempuh                 0\n",
      "pencapaian_kecepatan_per_koridor    0\n",
      "pencapaian_kecepatan                0\n",
      "pencapaian_waktu_tempuh             0\n",
      "dtype: int64\n",
      "waktu                               0\n",
      "arah                                0\n",
      "koridor                             0\n",
      "target_kecepatan                    0\n",
      "jarak                               0\n",
      "target_waktu_tempuh                 0\n",
      "pencapaian_kecepatan_per_koridor    0\n",
      "pencapaian_kecepatan                0\n",
      "pencapaian_waktu_tempuh             0\n",
      "dtype: int64\n",
      "waktu                               0\n",
      "arah                                0\n",
      "koridor                             0\n",
      "target_kecepatan                    0\n",
      "jarak                               0\n",
      "target_waktu_tempuh                 0\n",
      "pencapaian_kecepatan_per_koridor    0\n",
      "pencapaian_kecepatan                0\n",
      "pencapaian_waktu_tempuh             0\n",
      "dtype: int64\n",
      "waktu                               0\n",
      "arah                                0\n",
      "koridor                             0\n",
      "target_kecepatan                    0\n",
      "jarak                               0\n",
      "target_waktu_tempuh                 0\n",
      "pencapaian_kecepatan_per_koridor    0\n",
      "pencapaian_kecepatan                0\n",
      "pencapaian_waktu_tempuh             0\n",
      "dtype: int64\n",
      "waktu                               0\n",
      "arah                                0\n",
      "koridor                             0\n",
      "target_kecepatan                    0\n",
      "jarak                               0\n",
      "target_waktu_tempuh                 0\n",
      "pencapaian_kecepatan_per_koridor    0\n",
      "pencapaian_kecepatan                0\n",
      "pencapaian_waktu_tempuh             0\n",
      "dtype: int64\n",
      "waktu                               0\n",
      "arah                                0\n",
      "koridor                             0\n",
      "target_kecepatan                    0\n",
      "jarak                               0\n",
      "target_waktu_tempuh                 0\n",
      "pencapaian_kecepatan_per_koridor    0\n",
      "pencapaian_kecepatan                0\n",
      "pencapaian_waktu_tempuh             0\n",
      "dtype: int64\n"
     ]
    }
   ],
   "source": [
    "per = [df_jan,df_feb,df_mar,df_apr,df_mei,df_jun,df_jul,df_aug,df_sept,df_oct,df_nov,df_des]\n",
    "for i in per:\n",
    "    print(i.isna().sum())"
   ]
  },
  {
   "cell_type": "code",
   "execution_count": 3,
   "id": "f6ad8714",
   "metadata": {},
   "outputs": [
    {
     "data": {
      "text/html": [
       "<div>\n",
       "<style scoped>\n",
       "    .dataframe tbody tr th:only-of-type {\n",
       "        vertical-align: middle;\n",
       "    }\n",
       "\n",
       "    .dataframe tbody tr th {\n",
       "        vertical-align: top;\n",
       "    }\n",
       "\n",
       "    .dataframe thead th {\n",
       "        text-align: right;\n",
       "    }\n",
       "</style>\n",
       "<table border=\"1\" class=\"dataframe\">\n",
       "  <thead>\n",
       "    <tr style=\"text-align: right;\">\n",
       "      <th></th>\n",
       "      <th>waktu</th>\n",
       "      <th>arah</th>\n",
       "      <th>koridor</th>\n",
       "      <th>target_kecepatan</th>\n",
       "      <th>jarak</th>\n",
       "      <th>target_waktu_tempuh</th>\n",
       "      <th>pencapaian_kecepatan_per_koridor</th>\n",
       "      <th>pencapaian_kecepatan</th>\n",
       "      <th>pencapaian_waktu_tempuh</th>\n",
       "    </tr>\n",
       "  </thead>\n",
       "  <tbody>\n",
       "    <tr>\n",
       "      <th>0</th>\n",
       "      <td>pagi</td>\n",
       "      <td>Selatan - Pusat</td>\n",
       "      <td>Lenteng Agung - Ps. Minggu - Supomo - dr. Saha...</td>\n",
       "      <td>20.5</td>\n",
       "      <td>19.62</td>\n",
       "      <td>57.43</td>\n",
       "      <td>22.70</td>\n",
       "      <td>22.98</td>\n",
       "      <td>63.83</td>\n",
       "    </tr>\n",
       "    <tr>\n",
       "      <th>1</th>\n",
       "      <td>pagi</td>\n",
       "      <td>Selatan - Pusat</td>\n",
       "      <td>Cilandak KKO - Warung Buncit - Mampang Prapata...</td>\n",
       "      <td>20.5</td>\n",
       "      <td>13.36</td>\n",
       "      <td>39.10</td>\n",
       "      <td>25.43</td>\n",
       "      <td>22.98</td>\n",
       "      <td>37.71</td>\n",
       "    </tr>\n",
       "    <tr>\n",
       "      <th>2</th>\n",
       "      <td>pagi</td>\n",
       "      <td>Selatan - Pusat</td>\n",
       "      <td>Pangeran Antasari - Prapanca - Iskandarsyah - ...</td>\n",
       "      <td>20.5</td>\n",
       "      <td>11.13</td>\n",
       "      <td>32.58</td>\n",
       "      <td>27.54</td>\n",
       "      <td>22.98</td>\n",
       "      <td>26.99</td>\n",
       "    </tr>\n",
       "    <tr>\n",
       "      <th>3</th>\n",
       "      <td>pagi</td>\n",
       "      <td>Selatan - Pusat</td>\n",
       "      <td>Pondok Labu - Fatmawati - Panglima Polim - Sis...</td>\n",
       "      <td>20.5</td>\n",
       "      <td>16.25</td>\n",
       "      <td>47.56</td>\n",
       "      <td>22.20</td>\n",
       "      <td>22.98</td>\n",
       "      <td>50.82</td>\n",
       "    </tr>\n",
       "    <tr>\n",
       "      <th>4</th>\n",
       "      <td>pagi</td>\n",
       "      <td>Selatan - Pusat</td>\n",
       "      <td>Pasar Jumat - Metro Pondok Indah - Iskandar Mu...</td>\n",
       "      <td>20.5</td>\n",
       "      <td>15.87</td>\n",
       "      <td>46.45</td>\n",
       "      <td>25.99</td>\n",
       "      <td>22.98</td>\n",
       "      <td>42.06</td>\n",
       "    </tr>\n",
       "    <tr>\n",
       "      <th>...</th>\n",
       "      <td>...</td>\n",
       "      <td>...</td>\n",
       "      <td>...</td>\n",
       "      <td>...</td>\n",
       "      <td>...</td>\n",
       "      <td>...</td>\n",
       "      <td>...</td>\n",
       "      <td>...</td>\n",
       "      <td>...</td>\n",
       "    </tr>\n",
       "    <tr>\n",
       "      <th>981</th>\n",
       "      <td>Sore</td>\n",
       "      <td>Pusat - Utara</td>\n",
       "      <td>Letjend. Suprapto - Yos Sudarso - Bollevard Ba...</td>\n",
       "      <td>23.0</td>\n",
       "      <td>20.29</td>\n",
       "      <td>52.93</td>\n",
       "      <td>21.16</td>\n",
       "      <td>22.49</td>\n",
       "      <td>58.65</td>\n",
       "    </tr>\n",
       "    <tr>\n",
       "      <th>982</th>\n",
       "      <td>Sore</td>\n",
       "      <td>Pusat - Barat</td>\n",
       "      <td>Hayam Wuruk - Hasyim Ashari - Kyai Tapa - Daan...</td>\n",
       "      <td>23.0</td>\n",
       "      <td>14.47</td>\n",
       "      <td>37.75</td>\n",
       "      <td>20.72</td>\n",
       "      <td>21.67</td>\n",
       "      <td>46.75</td>\n",
       "    </tr>\n",
       "    <tr>\n",
       "      <th>983</th>\n",
       "      <td>Sore</td>\n",
       "      <td>Pusat - Barat</td>\n",
       "      <td>Hayam Wuruk - Balikpapan - Tomang Raya - S. Pa...</td>\n",
       "      <td>23.0</td>\n",
       "      <td>15.55</td>\n",
       "      <td>40.57</td>\n",
       "      <td>18.11</td>\n",
       "      <td>21.67</td>\n",
       "      <td>54.13</td>\n",
       "    </tr>\n",
       "    <tr>\n",
       "      <th>984</th>\n",
       "      <td>Sore</td>\n",
       "      <td>Pusat - Barat</td>\n",
       "      <td>Kebon Sirih - Jatibaru - Katamso - Kemanggisan...</td>\n",
       "      <td>23.0</td>\n",
       "      <td>17.43</td>\n",
       "      <td>45.47</td>\n",
       "      <td>24.61</td>\n",
       "      <td>21.67</td>\n",
       "      <td>50.71</td>\n",
       "    </tr>\n",
       "    <tr>\n",
       "      <th>985</th>\n",
       "      <td>Sore</td>\n",
       "      <td>Pusat - Barat</td>\n",
       "      <td>Kebon Sirih - Jatibaru - Katamso - Kemanggisan...</td>\n",
       "      <td>23.0</td>\n",
       "      <td>16.23</td>\n",
       "      <td>42.34</td>\n",
       "      <td>23.22</td>\n",
       "      <td>21.67</td>\n",
       "      <td>48.24</td>\n",
       "    </tr>\n",
       "  </tbody>\n",
       "</table>\n",
       "<p>986 rows × 9 columns</p>\n",
       "</div>"
      ],
      "text/plain": [
       "    waktu             arah                                            koridor  \\\n",
       "0    pagi  Selatan - Pusat  Lenteng Agung - Ps. Minggu - Supomo - dr. Saha...   \n",
       "1    pagi  Selatan - Pusat  Cilandak KKO - Warung Buncit - Mampang Prapata...   \n",
       "2    pagi  Selatan - Pusat  Pangeran Antasari - Prapanca - Iskandarsyah - ...   \n",
       "3    pagi  Selatan - Pusat  Pondok Labu - Fatmawati - Panglima Polim - Sis...   \n",
       "4    pagi  Selatan - Pusat  Pasar Jumat - Metro Pondok Indah - Iskandar Mu...   \n",
       "..    ...              ...                                                ...   \n",
       "981  Sore    Pusat - Utara  Letjend. Suprapto - Yos Sudarso - Bollevard Ba...   \n",
       "982  Sore    Pusat - Barat  Hayam Wuruk - Hasyim Ashari - Kyai Tapa - Daan...   \n",
       "983  Sore    Pusat - Barat  Hayam Wuruk - Balikpapan - Tomang Raya - S. Pa...   \n",
       "984  Sore    Pusat - Barat  Kebon Sirih - Jatibaru - Katamso - Kemanggisan...   \n",
       "985  Sore    Pusat - Barat  Kebon Sirih - Jatibaru - Katamso - Kemanggisan...   \n",
       "\n",
       "     target_kecepatan  jarak  target_waktu_tempuh  \\\n",
       "0                20.5  19.62                57.43   \n",
       "1                20.5  13.36                39.10   \n",
       "2                20.5  11.13                32.58   \n",
       "3                20.5  16.25                47.56   \n",
       "4                20.5  15.87                46.45   \n",
       "..                ...    ...                  ...   \n",
       "981              23.0  20.29                52.93   \n",
       "982              23.0  14.47                37.75   \n",
       "983              23.0  15.55                40.57   \n",
       "984              23.0  17.43                45.47   \n",
       "985              23.0  16.23                42.34   \n",
       "\n",
       "     pencapaian_kecepatan_per_koridor  pencapaian_kecepatan  \\\n",
       "0                               22.70                 22.98   \n",
       "1                               25.43                 22.98   \n",
       "2                               27.54                 22.98   \n",
       "3                               22.20                 22.98   \n",
       "4                               25.99                 22.98   \n",
       "..                                ...                   ...   \n",
       "981                             21.16                 22.49   \n",
       "982                             20.72                 21.67   \n",
       "983                             18.11                 21.67   \n",
       "984                             24.61                 21.67   \n",
       "985                             23.22                 21.67   \n",
       "\n",
       "     pencapaian_waktu_tempuh  \n",
       "0                      63.83  \n",
       "1                      37.71  \n",
       "2                      26.99  \n",
       "3                      50.82  \n",
       "4                      42.06  \n",
       "..                       ...  \n",
       "981                    58.65  \n",
       "982                    46.75  \n",
       "983                    54.13  \n",
       "984                    50.71  \n",
       "985                    48.24  \n",
       "\n",
       "[986 rows x 9 columns]"
      ]
     },
     "execution_count": 3,
     "metadata": {},
     "output_type": "execute_result"
    }
   ],
   "source": [
    "# merging two csv files\n",
    "df = pd.concat(\n",
    "    [df_jan,df_feb,df_mar,df_apr,df_mei,df_jun,df_jul,df_aug,df_sept,df_oct,df_nov,df_des], ignore_index=True)\n",
    "df = pd.DataFrame(df)\n",
    "df"
   ]
  },
  {
   "cell_type": "code",
   "execution_count": 4,
   "id": "aeab24ca",
   "metadata": {},
   "outputs": [
    {
     "data": {
      "text/html": [
       "<div>\n",
       "<style scoped>\n",
       "    .dataframe tbody tr th:only-of-type {\n",
       "        vertical-align: middle;\n",
       "    }\n",
       "\n",
       "    .dataframe tbody tr th {\n",
       "        vertical-align: top;\n",
       "    }\n",
       "\n",
       "    .dataframe thead th {\n",
       "        text-align: right;\n",
       "    }\n",
       "</style>\n",
       "<table border=\"1\" class=\"dataframe\">\n",
       "  <thead>\n",
       "    <tr style=\"text-align: right;\">\n",
       "      <th></th>\n",
       "      <th>target_kecepatan</th>\n",
       "      <th>jarak</th>\n",
       "      <th>target_waktu_tempuh</th>\n",
       "      <th>pencapaian_kecepatan_per_koridor</th>\n",
       "      <th>pencapaian_kecepatan</th>\n",
       "      <th>pencapaian_waktu_tempuh</th>\n",
       "    </tr>\n",
       "  </thead>\n",
       "  <tbody>\n",
       "    <tr>\n",
       "      <th>count</th>\n",
       "      <td>943.000000</td>\n",
       "      <td>984.000000</td>\n",
       "      <td>984.000000</td>\n",
       "      <td>984.000000</td>\n",
       "      <td>984.000000</td>\n",
       "      <td>984.000000</td>\n",
       "    </tr>\n",
       "    <tr>\n",
       "      <th>mean</th>\n",
       "      <td>21.304348</td>\n",
       "      <td>15.028780</td>\n",
       "      <td>42.346260</td>\n",
       "      <td>25.827266</td>\n",
       "      <td>25.827835</td>\n",
       "      <td>41.520305</td>\n",
       "    </tr>\n",
       "    <tr>\n",
       "      <th>std</th>\n",
       "      <td>1.309022</td>\n",
       "      <td>3.039114</td>\n",
       "      <td>8.959588</td>\n",
       "      <td>5.469798</td>\n",
       "      <td>4.293921</td>\n",
       "      <td>13.073591</td>\n",
       "    </tr>\n",
       "    <tr>\n",
       "      <th>min</th>\n",
       "      <td>19.000000</td>\n",
       "      <td>8.450000</td>\n",
       "      <td>21.130000</td>\n",
       "      <td>14.760000</td>\n",
       "      <td>16.880000</td>\n",
       "      <td>13.560000</td>\n",
       "    </tr>\n",
       "    <tr>\n",
       "      <th>25%</th>\n",
       "      <td>20.500000</td>\n",
       "      <td>13.130000</td>\n",
       "      <td>36.430000</td>\n",
       "      <td>22.160000</td>\n",
       "      <td>22.460000</td>\n",
       "      <td>31.570000</td>\n",
       "    </tr>\n",
       "    <tr>\n",
       "      <th>50%</th>\n",
       "      <td>21.000000</td>\n",
       "      <td>14.670000</td>\n",
       "      <td>41.600000</td>\n",
       "      <td>25.095000</td>\n",
       "      <td>25.330000</td>\n",
       "      <td>40.305000</td>\n",
       "    </tr>\n",
       "    <tr>\n",
       "      <th>75%</th>\n",
       "      <td>22.000000</td>\n",
       "      <td>17.050000</td>\n",
       "      <td>47.770000</td>\n",
       "      <td>29.160000</td>\n",
       "      <td>28.890000</td>\n",
       "      <td>50.767500</td>\n",
       "    </tr>\n",
       "    <tr>\n",
       "      <th>max</th>\n",
       "      <td>24.000000</td>\n",
       "      <td>21.210000</td>\n",
       "      <td>66.980000</td>\n",
       "      <td>50.140000</td>\n",
       "      <td>38.330000</td>\n",
       "      <td>83.040000</td>\n",
       "    </tr>\n",
       "  </tbody>\n",
       "</table>\n",
       "</div>"
      ],
      "text/plain": [
       "       target_kecepatan       jarak  target_waktu_tempuh  \\\n",
       "count        943.000000  984.000000           984.000000   \n",
       "mean          21.304348   15.028780            42.346260   \n",
       "std            1.309022    3.039114             8.959588   \n",
       "min           19.000000    8.450000            21.130000   \n",
       "25%           20.500000   13.130000            36.430000   \n",
       "50%           21.000000   14.670000            41.600000   \n",
       "75%           22.000000   17.050000            47.770000   \n",
       "max           24.000000   21.210000            66.980000   \n",
       "\n",
       "       pencapaian_kecepatan_per_koridor  pencapaian_kecepatan  \\\n",
       "count                        984.000000            984.000000   \n",
       "mean                          25.827266             25.827835   \n",
       "std                            5.469798              4.293921   \n",
       "min                           14.760000             16.880000   \n",
       "25%                           22.160000             22.460000   \n",
       "50%                           25.095000             25.330000   \n",
       "75%                           29.160000             28.890000   \n",
       "max                           50.140000             38.330000   \n",
       "\n",
       "       pencapaian_waktu_tempuh  \n",
       "count               984.000000  \n",
       "mean                 41.520305  \n",
       "std                  13.073591  \n",
       "min                  13.560000  \n",
       "25%                  31.570000  \n",
       "50%                  40.305000  \n",
       "75%                  50.767500  \n",
       "max                  83.040000  "
      ]
     },
     "execution_count": 4,
     "metadata": {},
     "output_type": "execute_result"
    }
   ],
   "source": [
    "df.describe()"
   ]
  },
  {
   "cell_type": "code",
   "execution_count": 5,
   "id": "1f7e0ed0",
   "metadata": {},
   "outputs": [
    {
     "data": {
      "text/plain": [
       "waktu                                object\n",
       "arah                                 object\n",
       "koridor                              object\n",
       "target_kecepatan                    float64\n",
       "jarak                               float64\n",
       "target_waktu_tempuh                 float64\n",
       "pencapaian_kecepatan_per_koridor    float64\n",
       "pencapaian_kecepatan                float64\n",
       "pencapaian_waktu_tempuh             float64\n",
       "dtype: object"
      ]
     },
     "execution_count": 5,
     "metadata": {},
     "output_type": "execute_result"
    }
   ],
   "source": [
    "df.dtypes"
   ]
  },
  {
   "cell_type": "code",
   "execution_count": 6,
   "id": "8847a9ed",
   "metadata": {},
   "outputs": [
    {
     "data": {
      "image/png": "[encoded data removed]",
      "text/plain": [
       "<Figure size 432x288 with 6 Axes>"
      ]
     },
     "metadata": {
      "needs_background": "light"
     },
     "output_type": "display_data"
    }
   ],
   "source": [
    "import matplotlib.pyplot as plt\n",
    "fig = df.hist(xlabelsize=7, ylabelsize=7)\n",
    "[x.title.set_size(7) for x in fig.ravel()]\n",
    "# show the plot\n",
    "plt.show()"
   ]
  },
  {
   "cell_type": "markdown",
   "id": "ef3a9d6d",
   "metadata": {},
   "source": [
    "## 1. Hitunglah akurasi model regresi linear (gunakan cross validation) tanpa menggunakan scaling maupun encoder"
   ]
  },
  {
   "cell_type": "markdown",
   "id": "8402136d",
   "metadata": {},
   "source": [
    "Karena data waktu,arah,dan koridor merupakan object maka untuk melakukan regresi linear saya drop kolom-kolom tersebut dan drop baris yang memiliki nilai nan"
   ]
  },
  {
   "cell_type": "code",
   "execution_count": 7,
   "id": "f00c9615",
   "metadata": {},
   "outputs": [
    {
     "data": {
      "text/html": [
       "<div>\n",
       "<style scoped>\n",
       "    .dataframe tbody tr th:only-of-type {\n",
       "        vertical-align: middle;\n",
       "    }\n",
       "\n",
       "    .dataframe tbody tr th {\n",
       "        vertical-align: top;\n",
       "    }\n",
       "\n",
       "    .dataframe thead th {\n",
       "        text-align: right;\n",
       "    }\n",
       "</style>\n",
       "<table border=\"1\" class=\"dataframe\">\n",
       "  <thead>\n",
       "    <tr style=\"text-align: right;\">\n",
       "      <th></th>\n",
       "      <th>target_kecepatan</th>\n",
       "      <th>jarak</th>\n",
       "      <th>target_waktu_tempuh</th>\n",
       "      <th>pencapaian_kecepatan_per_koridor</th>\n",
       "      <th>pencapaian_kecepatan</th>\n",
       "      <th>pencapaian_waktu_tempuh</th>\n",
       "    </tr>\n",
       "  </thead>\n",
       "  <tbody>\n",
       "    <tr>\n",
       "      <th>0</th>\n",
       "      <td>20.5</td>\n",
       "      <td>19.62</td>\n",
       "      <td>57.43</td>\n",
       "      <td>22.70</td>\n",
       "      <td>22.98</td>\n",
       "      <td>63.83</td>\n",
       "    </tr>\n",
       "    <tr>\n",
       "      <th>1</th>\n",
       "      <td>20.5</td>\n",
       "      <td>13.36</td>\n",
       "      <td>39.10</td>\n",
       "      <td>25.43</td>\n",
       "      <td>22.98</td>\n",
       "      <td>37.71</td>\n",
       "    </tr>\n",
       "    <tr>\n",
       "      <th>2</th>\n",
       "      <td>20.5</td>\n",
       "      <td>11.13</td>\n",
       "      <td>32.58</td>\n",
       "      <td>27.54</td>\n",
       "      <td>22.98</td>\n",
       "      <td>26.99</td>\n",
       "    </tr>\n",
       "    <tr>\n",
       "      <th>3</th>\n",
       "      <td>20.5</td>\n",
       "      <td>16.25</td>\n",
       "      <td>47.56</td>\n",
       "      <td>22.20</td>\n",
       "      <td>22.98</td>\n",
       "      <td>50.82</td>\n",
       "    </tr>\n",
       "    <tr>\n",
       "      <th>4</th>\n",
       "      <td>20.5</td>\n",
       "      <td>15.87</td>\n",
       "      <td>46.45</td>\n",
       "      <td>25.99</td>\n",
       "      <td>22.98</td>\n",
       "      <td>42.06</td>\n",
       "    </tr>\n",
       "    <tr>\n",
       "      <th>...</th>\n",
       "      <td>...</td>\n",
       "      <td>...</td>\n",
       "      <td>...</td>\n",
       "      <td>...</td>\n",
       "      <td>...</td>\n",
       "      <td>...</td>\n",
       "    </tr>\n",
       "    <tr>\n",
       "      <th>981</th>\n",
       "      <td>23.0</td>\n",
       "      <td>20.29</td>\n",
       "      <td>52.93</td>\n",
       "      <td>21.16</td>\n",
       "      <td>22.49</td>\n",
       "      <td>58.65</td>\n",
       "    </tr>\n",
       "    <tr>\n",
       "      <th>982</th>\n",
       "      <td>23.0</td>\n",
       "      <td>14.47</td>\n",
       "      <td>37.75</td>\n",
       "      <td>20.72</td>\n",
       "      <td>21.67</td>\n",
       "      <td>46.75</td>\n",
       "    </tr>\n",
       "    <tr>\n",
       "      <th>983</th>\n",
       "      <td>23.0</td>\n",
       "      <td>15.55</td>\n",
       "      <td>40.57</td>\n",
       "      <td>18.11</td>\n",
       "      <td>21.67</td>\n",
       "      <td>54.13</td>\n",
       "    </tr>\n",
       "    <tr>\n",
       "      <th>984</th>\n",
       "      <td>23.0</td>\n",
       "      <td>17.43</td>\n",
       "      <td>45.47</td>\n",
       "      <td>24.61</td>\n",
       "      <td>21.67</td>\n",
       "      <td>50.71</td>\n",
       "    </tr>\n",
       "    <tr>\n",
       "      <th>985</th>\n",
       "      <td>23.0</td>\n",
       "      <td>16.23</td>\n",
       "      <td>42.34</td>\n",
       "      <td>23.22</td>\n",
       "      <td>21.67</td>\n",
       "      <td>48.24</td>\n",
       "    </tr>\n",
       "  </tbody>\n",
       "</table>\n",
       "<p>986 rows × 6 columns</p>\n",
       "</div>"
      ],
      "text/plain": [
       "     target_kecepatan  jarak  target_waktu_tempuh  \\\n",
       "0                20.5  19.62                57.43   \n",
       "1                20.5  13.36                39.10   \n",
       "2                20.5  11.13                32.58   \n",
       "3                20.5  16.25                47.56   \n",
       "4                20.5  15.87                46.45   \n",
       "..                ...    ...                  ...   \n",
       "981              23.0  20.29                52.93   \n",
       "982              23.0  14.47                37.75   \n",
       "983              23.0  15.55                40.57   \n",
       "984              23.0  17.43                45.47   \n",
       "985              23.0  16.23                42.34   \n",
       "\n",
       "     pencapaian_kecepatan_per_koridor  pencapaian_kecepatan  \\\n",
       "0                               22.70                 22.98   \n",
       "1                               25.43                 22.98   \n",
       "2                               27.54                 22.98   \n",
       "3                               22.20                 22.98   \n",
       "4                               25.99                 22.98   \n",
       "..                                ...                   ...   \n",
       "981                             21.16                 22.49   \n",
       "982                             20.72                 21.67   \n",
       "983                             18.11                 21.67   \n",
       "984                             24.61                 21.67   \n",
       "985                             23.22                 21.67   \n",
       "\n",
       "     pencapaian_waktu_tempuh  \n",
       "0                      63.83  \n",
       "1                      37.71  \n",
       "2                      26.99  \n",
       "3                      50.82  \n",
       "4                      42.06  \n",
       "..                       ...  \n",
       "981                    58.65  \n",
       "982                    46.75  \n",
       "983                    54.13  \n",
       "984                    50.71  \n",
       "985                    48.24  \n",
       "\n",
       "[986 rows x 6 columns]"
      ]
     },
     "execution_count": 7,
     "metadata": {},
     "output_type": "execute_result"
    }
   ],
   "source": [
    "coba_df = df.copy().drop(['waktu', 'arah','koridor'], axis=1)\n",
    "coba_df"
   ]
  },
  {
   "cell_type": "code",
   "execution_count": 8,
   "id": "e114b5b7",
   "metadata": {},
   "outputs": [],
   "source": [
    "coba_df = coba_df.dropna().reset_index(drop=True)"
   ]
  },
  {
   "cell_type": "code",
   "execution_count": 9,
   "id": "6c36198a",
   "metadata": {},
   "outputs": [
    {
     "data": {
      "text/plain": [
       "target_kecepatan                    0\n",
       "jarak                               0\n",
       "target_waktu_tempuh                 0\n",
       "pencapaian_kecepatan_per_koridor    0\n",
       "pencapaian_kecepatan                0\n",
       "pencapaian_waktu_tempuh             0\n",
       "dtype: int64"
      ]
     },
     "execution_count": 9,
     "metadata": {},
     "output_type": "execute_result"
    }
   ],
   "source": [
    "coba_df.isna().sum()"
   ]
  },
  {
   "cell_type": "code",
   "execution_count": 10,
   "id": "182235db",
   "metadata": {},
   "outputs": [
    {
     "name": "stdout",
     "output_type": "stream",
     "text": [
      "[0.67074143 0.76248496 0.70204634 0.46081871 0.58550466]\n"
     ]
    }
   ],
   "source": [
    "from sklearn.linear_model import LinearRegression\n",
    "from sklearn.model_selection import train_test_split\n",
    "from sklearn.model_selection import cross_val_score\n",
    "\n",
    "X, y = coba_df.loc[:, coba_df.columns != 'pencapaian_kecepatan'], coba_df['pencapaian_kecepatan']\n",
    "X_train_raw, X_test_raw, y_train_raw, y_test_raw = train_test_split(X, y, test_size = 0.25)\n",
    "regr = LinearRegression()\n",
    "\n",
    "clf_raw = regr.fit(X_train_raw, y_train_raw)\n",
    "filename = 'clf_raw.sav'\n",
    "pickle.dump(clf_raw, open(filename, 'wb'))\n",
    "scores_raw = cross_val_score(clf_raw, X_test_raw, y_test_raw,cv=5)\n",
    "print(scores_raw)"
   ]
  },
  {
   "cell_type": "code",
   "execution_count": 11,
   "id": "29b8e459",
   "metadata": {},
   "outputs": [
    {
     "data": {
      "image/png": "[encoded data removed]",
      "text/plain": [
       "<Figure size 432x288 with 1 Axes>"
      ]
     },
     "metadata": {
      "needs_background": "light"
     },
     "output_type": "display_data"
    },
    {
     "name": "stdout",
     "output_type": "stream",
     "text": [
      "Mean : 0.6363192209775577\n",
      "Standard Deviation : 0.10469506867536928\n"
     ]
    }
   ],
   "source": [
    "import matplotlib.pyplot as plt\n",
    "import numpy as np\n",
    "plt.boxplot(scores_raw)\n",
    "plt.show()\n",
    "print('Mean :',np.mean(scores_raw))\n",
    "print('Standard Deviation :',np.std(scores_raw))"
   ]
  },
  {
   "cell_type": "markdown",
   "id": "04c18d17",
   "metadata": {},
   "source": [
    "## 2. Buatlah histogram untuk tiga cara: (normalisasi, standarisasi, dan robust scaler) untuk fitur numerik, lalu hitunglah akurasi model regresi linear (gunakan cross validation) untuk tiga cara ini (dengan memakai fitur numerik saja)"
   ]
  },
  {
   "cell_type": "markdown",
   "id": "53af3621",
   "metadata": {},
   "source": [
    "### Normalisasi"
   ]
  },
  {
   "cell_type": "code",
   "execution_count": 12,
   "id": "09acacb1",
   "metadata": {},
   "outputs": [
    {
     "data": {
      "text/plain": [
       "array([[0.3       , 0.87539185, 0.7917121 , 0.22442058, 0.72351756],\n",
       "       [0.3       , 0.38479624, 0.39193021, 0.30158282, 0.34758204],\n",
       "       [0.3       , 0.21003135, 0.24972737, 0.36122103, 0.19329303],\n",
       "       ...,\n",
       "       [0.8       , 0.55642633, 0.42399128, 0.09468626, 0.58390904],\n",
       "       [0.8       , 0.70376176, 0.5308615 , 0.27840588, 0.53468624],\n",
       "       [0.8       , 0.60971787, 0.46259542, 0.23911815, 0.49913644]])"
      ]
     },
     "execution_count": 12,
     "metadata": {},
     "output_type": "execute_result"
    }
   ],
   "source": [
    "from sklearn.preprocessing import MinMaxScaler\n",
    "scaler = MinMaxScaler()\n",
    "scaled = scaler.fit_transform(X)\n",
    "scaled"
   ]
  },
  {
   "cell_type": "code",
   "execution_count": 13,
   "id": "0f4f9ada",
   "metadata": {},
   "outputs": [
    {
     "name": "stdout",
     "output_type": "stream",
     "text": [
      "[0.65909387 0.68234848 0.55922919 0.66480512 0.58755169]\n"
     ]
    }
   ],
   "source": [
    "X_train_norm, X_test_norm, y_train_norm, y_test_norm = train_test_split(scaled, y, test_size = 0.25)\n",
    "clf_norm = regr.fit(X_train_norm, y_train_norm)\n",
    "filename = 'clf_norm.sav'\n",
    "pickle.dump(clf_norm, open(filename, 'wb'))\n",
    "scores_norm = cross_val_score(clf_norm, X_test_norm, y_test_norm,cv=5)\n",
    "print(scores_norm)"
   ]
  },
  {
   "cell_type": "code",
   "execution_count": 14,
   "id": "36e056bd",
   "metadata": {},
   "outputs": [
    {
     "data": {
      "image/png": "[encoded data removed]",
      "text/plain": [
       "<Figure size 432x288 with 1 Axes>"
      ]
     },
     "metadata": {
      "needs_background": "light"
     },
     "output_type": "display_data"
    },
    {
     "name": "stdout",
     "output_type": "stream",
     "text": [
      "Mean : 0.6306056685237136\n",
      "Standard Deviation : 0.04818037900784326\n"
     ]
    }
   ],
   "source": [
    "import matplotlib.pyplot as plt\n",
    "import numpy as np\n",
    "plt.boxplot(scores_norm)\n",
    "plt.show()\n",
    "print('Mean :',np.mean(scores_norm))\n",
    "print('Standard Deviation :',np.std(scores_norm))"
   ]
  },
  {
   "cell_type": "markdown",
   "id": "3bc02bda",
   "metadata": {},
   "source": [
    "### Standarisasi"
   ]
  },
  {
   "cell_type": "code",
   "execution_count": 15,
   "id": "b7e7bf5f",
   "metadata": {},
   "outputs": [
    {
     "data": {
      "text/plain": [
       "array([[-0.614791  ,  1.51147787,  1.66593505, -0.58792849,  1.71883699],\n",
       "       [-0.614791  , -0.54938013, -0.37702731, -0.09089964, -0.28210773],\n",
       "       [-0.614791  , -1.28351964, -1.10371114,  0.29325086, -1.10332242],\n",
       "       ...,\n",
       "       [ 1.29604589,  0.17159096, -0.21318908, -1.42359237,  0.97576028],\n",
       "       [ 1.29604589,  0.79050678,  0.33293834, -0.24019036,  0.71376828],\n",
       "       [ 1.29604589,  0.39545413, -0.01591448, -0.49325633,  0.52455184]])"
      ]
     },
     "execution_count": 15,
     "metadata": {},
     "output_type": "execute_result"
    }
   ],
   "source": [
    "from sklearn.preprocessing import StandardScaler\n",
    "std = StandardScaler()\n",
    "standared = std.fit_transform(X)\n",
    "standared"
   ]
  },
  {
   "cell_type": "code",
   "execution_count": 16,
   "id": "022ce3d6",
   "metadata": {},
   "outputs": [
    {
     "name": "stdout",
     "output_type": "stream",
     "text": [
      "[0.59226167 0.71334721 0.72530391 0.65957816 0.6268188 ]\n"
     ]
    }
   ],
   "source": [
    "X_train_std, X_test_std, y_train_std, y_test_std = train_test_split(standared, y, test_size = 0.25)\n",
    "clf_std = regr.fit(X_train_std, y_train_std)\n",
    "filename = 'clf_std.sav'\n",
    "pickle.dump(clf_std, open(filename, 'wb'))\n",
    "scores_std = cross_val_score(clf_std, X_test_std, y_test_std,cv=5)\n",
    "print(scores_std)"
   ]
  },
  {
   "cell_type": "code",
   "execution_count": 17,
   "id": "bd63af85",
   "metadata": {},
   "outputs": [
    {
     "data": {
      "image/png": "[encoded data removed]",
      "text/plain": [
       "<Figure size 432x288 with 1 Axes>"
      ]
     },
     "metadata": {
      "needs_background": "light"
     },
     "output_type": "display_data"
    },
    {
     "name": "stdout",
     "output_type": "stream",
     "text": [
      "Mean : 0.6634619493177205\n",
      "Standard Deviation : 0.05047821385365117\n"
     ]
    }
   ],
   "source": [
    "import matplotlib.pyplot as plt\n",
    "import numpy as np\n",
    "plt.boxplot(scores_std)\n",
    "plt.show()\n",
    "print('Mean :',np.mean(scores_std))\n",
    "print('Standard Deviation :',np.std(scores_std))"
   ]
  },
  {
   "cell_type": "markdown",
   "id": "54a1b3e1",
   "metadata": {},
   "source": [
    "### Robust Scaler"
   ]
  },
  {
   "cell_type": "code",
   "execution_count": 18,
   "id": "040f75e8",
   "metadata": {},
   "outputs": [
    {
     "data": {
      "text/plain": [
       "array([[-0.33333333,  1.2627551 ,  1.39442947, -0.35361489,  1.26214629],\n",
       "       [-0.33333333, -0.33418367, -0.2524708 ,  0.03722262, -0.1324079 ],\n",
       "       [-0.33333333, -0.90306122, -0.83827493,  0.3392985 , -0.70475174],\n",
       "       ...,\n",
       "       [ 1.33333333,  0.2244898 , -0.12039533, -1.01073729,  0.74426054],\n",
       "       [ 1.33333333,  0.70408163,  0.31985624, -0.0801718 ,  0.56166578],\n",
       "       [ 1.33333333,  0.39795918,  0.03863432, -0.27916965,  0.42979178]])"
      ]
     },
     "execution_count": 18,
     "metadata": {},
     "output_type": "execute_result"
    }
   ],
   "source": [
    "from sklearn.preprocessing import RobustScaler\n",
    "transformer = RobustScaler()\n",
    "transformed = transformer.fit_transform(X)\n",
    "transformed"
   ]
  },
  {
   "cell_type": "code",
   "execution_count": 19,
   "id": "180523fa",
   "metadata": {},
   "outputs": [
    {
     "name": "stdout",
     "output_type": "stream",
     "text": [
      "[0.69849827 0.65350758 0.74839908 0.58301444 0.6016853 ]\n"
     ]
    }
   ],
   "source": [
    "X_train_rs, X_test_rs, y_train_rs, y_test_rs = train_test_split(transformed, y, test_size = 0.25)\n",
    "clf_rs = regr.fit(X_train_rs, y_train_rs)\n",
    "filename = 'clf_rs.sav'\n",
    "pickle.dump(clf_rs, open(filename, 'wb'))\n",
    "scores_rs = cross_val_score(clf_rs, X_test_rs, y_test_rs,cv=5)\n",
    "print(scores_rs)"
   ]
  },
  {
   "cell_type": "code",
   "execution_count": 20,
   "id": "f1a2403d",
   "metadata": {},
   "outputs": [
    {
     "data": {
      "image/png": "[encoded data removed]",
      "text/plain": [
       "<Figure size 432x288 with 1 Axes>"
      ]
     },
     "metadata": {
      "needs_background": "light"
     },
     "output_type": "display_data"
    },
    {
     "name": "stdout",
     "output_type": "stream",
     "text": [
      "Mean : 0.6570209339153804\n",
      "Standard Deviation : 0.06102732623979025\n"
     ]
    }
   ],
   "source": [
    "import matplotlib.pyplot as plt\n",
    "import numpy as np\n",
    "plt.boxplot(scores_rs)\n",
    "plt.show()\n",
    "print('Mean :',np.mean(scores_rs))\n",
    "print('Standard Deviation :',np.std(scores_rs))"
   ]
  },
  {
   "cell_type": "markdown",
   "id": "7c1f7b3a",
   "metadata": {},
   "source": [
    "## 3. Gunakan onehot encoder dan ordinal encoder terhadap dataset untuk fitur kategorial. Lalu hitunglah akurasi model regresi linear (gunakan cross validation) untuk dua cara ini (dengan memakai fitur kategorial saja)"
   ]
  },
  {
   "cell_type": "markdown",
   "id": "8cb03999",
   "metadata": {},
   "source": [
    "### Onehot Encoder"
   ]
  },
  {
   "cell_type": "code",
   "execution_count": 21,
   "id": "63fb208b",
   "metadata": {},
   "outputs": [
    {
     "data": {
      "text/html": [
       "<div>\n",
       "<style scoped>\n",
       "    .dataframe tbody tr th:only-of-type {\n",
       "        vertical-align: middle;\n",
       "    }\n",
       "\n",
       "    .dataframe tbody tr th {\n",
       "        vertical-align: top;\n",
       "    }\n",
       "\n",
       "    .dataframe thead th {\n",
       "        text-align: right;\n",
       "    }\n",
       "</style>\n",
       "<table border=\"1\" class=\"dataframe\">\n",
       "  <thead>\n",
       "    <tr style=\"text-align: right;\">\n",
       "      <th></th>\n",
       "      <th>waktu</th>\n",
       "      <th>arah</th>\n",
       "      <th>koridor</th>\n",
       "      <th>pencapaian_kecepatan</th>\n",
       "    </tr>\n",
       "  </thead>\n",
       "  <tbody>\n",
       "    <tr>\n",
       "      <th>0</th>\n",
       "      <td>pagi</td>\n",
       "      <td>Selatan - Pusat</td>\n",
       "      <td>Lenteng Agung - Ps. Minggu - Supomo - dr. Saha...</td>\n",
       "      <td>22.98</td>\n",
       "    </tr>\n",
       "    <tr>\n",
       "      <th>1</th>\n",
       "      <td>pagi</td>\n",
       "      <td>Selatan - Pusat</td>\n",
       "      <td>Cilandak KKO - Warung Buncit - Mampang Prapata...</td>\n",
       "      <td>22.98</td>\n",
       "    </tr>\n",
       "    <tr>\n",
       "      <th>2</th>\n",
       "      <td>pagi</td>\n",
       "      <td>Selatan - Pusat</td>\n",
       "      <td>Pangeran Antasari - Prapanca - Iskandarsyah - ...</td>\n",
       "      <td>22.98</td>\n",
       "    </tr>\n",
       "    <tr>\n",
       "      <th>3</th>\n",
       "      <td>pagi</td>\n",
       "      <td>Selatan - Pusat</td>\n",
       "      <td>Pondok Labu - Fatmawati - Panglima Polim - Sis...</td>\n",
       "      <td>22.98</td>\n",
       "    </tr>\n",
       "    <tr>\n",
       "      <th>4</th>\n",
       "      <td>pagi</td>\n",
       "      <td>Selatan - Pusat</td>\n",
       "      <td>Pasar Jumat - Metro Pondok Indah - Iskandar Mu...</td>\n",
       "      <td>22.98</td>\n",
       "    </tr>\n",
       "    <tr>\n",
       "      <th>...</th>\n",
       "      <td>...</td>\n",
       "      <td>...</td>\n",
       "      <td>...</td>\n",
       "      <td>...</td>\n",
       "    </tr>\n",
       "    <tr>\n",
       "      <th>979</th>\n",
       "      <td>Sore</td>\n",
       "      <td>Pusat - Utara</td>\n",
       "      <td>Letjend. Suprapto - Yos Sudarso - Bollevard Ba...</td>\n",
       "      <td>22.49</td>\n",
       "    </tr>\n",
       "    <tr>\n",
       "      <th>980</th>\n",
       "      <td>Sore</td>\n",
       "      <td>Pusat - Barat</td>\n",
       "      <td>Hayam Wuruk - Hasyim Ashari - Kyai Tapa - Daan...</td>\n",
       "      <td>21.67</td>\n",
       "    </tr>\n",
       "    <tr>\n",
       "      <th>981</th>\n",
       "      <td>Sore</td>\n",
       "      <td>Pusat - Barat</td>\n",
       "      <td>Hayam Wuruk - Balikpapan - Tomang Raya - S. Pa...</td>\n",
       "      <td>21.67</td>\n",
       "    </tr>\n",
       "    <tr>\n",
       "      <th>982</th>\n",
       "      <td>Sore</td>\n",
       "      <td>Pusat - Barat</td>\n",
       "      <td>Kebon Sirih - Jatibaru - Katamso - Kemanggisan...</td>\n",
       "      <td>21.67</td>\n",
       "    </tr>\n",
       "    <tr>\n",
       "      <th>983</th>\n",
       "      <td>Sore</td>\n",
       "      <td>Pusat - Barat</td>\n",
       "      <td>Kebon Sirih - Jatibaru - Katamso - Kemanggisan...</td>\n",
       "      <td>21.67</td>\n",
       "    </tr>\n",
       "  </tbody>\n",
       "</table>\n",
       "<p>984 rows × 4 columns</p>\n",
       "</div>"
      ],
      "text/plain": [
       "    waktu             arah                                            koridor  \\\n",
       "0    pagi  Selatan - Pusat  Lenteng Agung - Ps. Minggu - Supomo - dr. Saha...   \n",
       "1    pagi  Selatan - Pusat  Cilandak KKO - Warung Buncit - Mampang Prapata...   \n",
       "2    pagi  Selatan - Pusat  Pangeran Antasari - Prapanca - Iskandarsyah - ...   \n",
       "3    pagi  Selatan - Pusat  Pondok Labu - Fatmawati - Panglima Polim - Sis...   \n",
       "4    pagi  Selatan - Pusat  Pasar Jumat - Metro Pondok Indah - Iskandar Mu...   \n",
       "..    ...              ...                                                ...   \n",
       "979  Sore    Pusat - Utara  Letjend. Suprapto - Yos Sudarso - Bollevard Ba...   \n",
       "980  Sore    Pusat - Barat  Hayam Wuruk - Hasyim Ashari - Kyai Tapa - Daan...   \n",
       "981  Sore    Pusat - Barat  Hayam Wuruk - Balikpapan - Tomang Raya - S. Pa...   \n",
       "982  Sore    Pusat - Barat  Kebon Sirih - Jatibaru - Katamso - Kemanggisan...   \n",
       "983  Sore    Pusat - Barat  Kebon Sirih - Jatibaru - Katamso - Kemanggisan...   \n",
       "\n",
       "     pencapaian_kecepatan  \n",
       "0                   22.98  \n",
       "1                   22.98  \n",
       "2                   22.98  \n",
       "3                   22.98  \n",
       "4                   22.98  \n",
       "..                    ...  \n",
       "979                 22.49  \n",
       "980                 21.67  \n",
       "981                 21.67  \n",
       "982                 21.67  \n",
       "983                 21.67  \n",
       "\n",
       "[984 rows x 4 columns]"
      ]
     },
     "execution_count": 21,
     "metadata": {},
     "output_type": "execute_result"
    }
   ],
   "source": [
    "df_kategorical = df[['waktu','arah','koridor','pencapaian_kecepatan']].dropna().reset_index(drop=True)\n",
    "df_kategorical"
   ]
  },
  {
   "cell_type": "code",
   "execution_count": 22,
   "id": "bb5c6bed",
   "metadata": {},
   "outputs": [],
   "source": [
    "X,y = df_kategorical.loc[:, df_kategorical.columns != 'pencapaian_kecepatan'],df_kategorical['pencapaian_kecepatan']"
   ]
  },
  {
   "cell_type": "code",
   "execution_count": 23,
   "id": "95df5361",
   "metadata": {},
   "outputs": [
    {
     "name": "stdout",
     "output_type": "stream",
     "text": [
      "      0    1    2    3    4    5    6    7    8    9   ...   45   46   47  \\\n",
      "0    0.0  0.0  1.0  0.0  0.0  0.0  0.0  0.0  0.0  1.0  ...  0.0  0.0  0.0   \n",
      "1    0.0  0.0  1.0  0.0  0.0  0.0  0.0  0.0  0.0  1.0  ...  0.0  0.0  0.0   \n",
      "2    0.0  0.0  1.0  0.0  0.0  0.0  0.0  0.0  0.0  1.0  ...  0.0  0.0  0.0   \n",
      "3    0.0  0.0  1.0  0.0  0.0  0.0  0.0  0.0  0.0  1.0  ...  0.0  0.0  0.0   \n",
      "4    0.0  0.0  1.0  0.0  0.0  0.0  0.0  0.0  0.0  1.0  ...  0.0  0.0  0.0   \n",
      "..   ...  ...  ...  ...  ...  ...  ...  ...  ...  ...  ...  ...  ...  ...   \n",
      "979  0.0  1.0  0.0  0.0  0.0  0.0  0.0  0.0  1.0  0.0  ...  0.0  0.0  0.0   \n",
      "980  0.0  1.0  0.0  0.0  0.0  1.0  0.0  0.0  0.0  0.0  ...  0.0  0.0  0.0   \n",
      "981  0.0  1.0  0.0  0.0  0.0  1.0  0.0  0.0  0.0  0.0  ...  0.0  0.0  0.0   \n",
      "982  0.0  1.0  0.0  0.0  0.0  1.0  0.0  0.0  0.0  0.0  ...  0.0  0.0  0.0   \n",
      "983  0.0  1.0  0.0  0.0  0.0  1.0  0.0  0.0  0.0  0.0  ...  0.0  0.0  0.0   \n",
      "\n",
      "      48   49   50   51   52   53   54  \n",
      "0    0.0  0.0  0.0  0.0  0.0  0.0  0.0  \n",
      "1    0.0  0.0  0.0  0.0  0.0  0.0  0.0  \n",
      "2    0.0  0.0  0.0  0.0  0.0  0.0  0.0  \n",
      "3    0.0  0.0  0.0  0.0  0.0  0.0  0.0  \n",
      "4    0.0  0.0  0.0  0.0  0.0  0.0  0.0  \n",
      "..   ...  ...  ...  ...  ...  ...  ...  \n",
      "979  0.0  0.0  0.0  0.0  0.0  0.0  0.0  \n",
      "980  0.0  0.0  0.0  0.0  0.0  0.0  0.0  \n",
      "981  0.0  0.0  0.0  0.0  0.0  0.0  0.0  \n",
      "982  0.0  0.0  0.0  0.0  0.0  0.0  0.0  \n",
      "983  0.0  0.0  0.0  0.0  0.0  0.0  0.0  \n",
      "\n",
      "[984 rows x 55 columns]\n"
     ]
    }
   ],
   "source": [
    "from sklearn.preprocessing import OneHotEncoder\n",
    "encoder = OneHotEncoder(sparse=False)\n",
    "result = pd.DataFrame(encoder.fit_transform(X))\n",
    "print(result)"
   ]
  },
  {
   "cell_type": "code",
   "execution_count": 24,
   "id": "db6acc7e",
   "metadata": {},
   "outputs": [
    {
     "name": "stdout",
     "output_type": "stream",
     "text": [
      "[0.14522366 0.20338598 0.03153145 0.16478364 0.1416576 ]\n"
     ]
    }
   ],
   "source": [
    "X_train_oh, X_test_oh, y_train_oh, y_test_oh = train_test_split(result, y, test_size = 0.25)\n",
    "clf_oh = regr.fit(X_train_oh, y_train_oh)\n",
    "filename = 'clf_oh.sav'\n",
    "pickle.dump(clf_oh, open(filename, 'wb'))\n",
    "scores_oh = cross_val_score(clf_oh, X_test_oh, y_test_oh,cv=5)\n",
    "print(scores_oh)"
   ]
  },
  {
   "cell_type": "code",
   "execution_count": 25,
   "id": "29b54af4",
   "metadata": {},
   "outputs": [
    {
     "data": {
      "image/png": "[encoded data removed]",
      "text/plain": [
       "<Figure size 432x288 with 1 Axes>"
      ]
     },
     "metadata": {
      "needs_background": "light"
     },
     "output_type": "display_data"
    },
    {
     "name": "stdout",
     "output_type": "stream",
     "text": [
      "Mean : 0.13731646729933855\n",
      "Standard Deviation : 0.05725637795746459\n"
     ]
    }
   ],
   "source": [
    "import matplotlib.pyplot as plt\n",
    "import numpy as np\n",
    "plt.boxplot(scores_oh)\n",
    "plt.show()\n",
    "print('Mean :',np.mean(scores_oh))\n",
    "print('Standard Deviation :',np.std(scores_oh))"
   ]
  },
  {
   "cell_type": "markdown",
   "id": "b69919b8",
   "metadata": {},
   "source": [
    "### Ordinal Encoder "
   ]
  },
  {
   "cell_type": "code",
   "execution_count": 26,
   "id": "3167f60d",
   "metadata": {},
   "outputs": [
    {
     "data": {
      "text/html": [
       "<div>\n",
       "<style scoped>\n",
       "    .dataframe tbody tr th:only-of-type {\n",
       "        vertical-align: middle;\n",
       "    }\n",
       "\n",
       "    .dataframe tbody tr th {\n",
       "        vertical-align: top;\n",
       "    }\n",
       "\n",
       "    .dataframe thead th {\n",
       "        text-align: right;\n",
       "    }\n",
       "</style>\n",
       "<table border=\"1\" class=\"dataframe\">\n",
       "  <thead>\n",
       "    <tr style=\"text-align: right;\">\n",
       "      <th></th>\n",
       "      <th>0</th>\n",
       "      <th>1</th>\n",
       "      <th>2</th>\n",
       "    </tr>\n",
       "  </thead>\n",
       "  <tbody>\n",
       "    <tr>\n",
       "      <th>0</th>\n",
       "      <td>2.0</td>\n",
       "      <td>5.0</td>\n",
       "      <td>16.0</td>\n",
       "    </tr>\n",
       "    <tr>\n",
       "      <th>1</th>\n",
       "      <td>2.0</td>\n",
       "      <td>5.0</td>\n",
       "      <td>0.0</td>\n",
       "    </tr>\n",
       "    <tr>\n",
       "      <th>2</th>\n",
       "      <td>2.0</td>\n",
       "      <td>5.0</td>\n",
       "      <td>25.0</td>\n",
       "    </tr>\n",
       "    <tr>\n",
       "      <th>3</th>\n",
       "      <td>2.0</td>\n",
       "      <td>5.0</td>\n",
       "      <td>29.0</td>\n",
       "    </tr>\n",
       "    <tr>\n",
       "      <th>4</th>\n",
       "      <td>2.0</td>\n",
       "      <td>5.0</td>\n",
       "      <td>26.0</td>\n",
       "    </tr>\n",
       "    <tr>\n",
       "      <th>...</th>\n",
       "      <td>...</td>\n",
       "      <td>...</td>\n",
       "      <td>...</td>\n",
       "    </tr>\n",
       "    <tr>\n",
       "      <th>979</th>\n",
       "      <td>1.0</td>\n",
       "      <td>4.0</td>\n",
       "      <td>17.0</td>\n",
       "    </tr>\n",
       "    <tr>\n",
       "      <th>980</th>\n",
       "      <td>1.0</td>\n",
       "      <td>1.0</td>\n",
       "      <td>5.0</td>\n",
       "    </tr>\n",
       "    <tr>\n",
       "      <th>981</th>\n",
       "      <td>1.0</td>\n",
       "      <td>1.0</td>\n",
       "      <td>4.0</td>\n",
       "    </tr>\n",
       "    <tr>\n",
       "      <th>982</th>\n",
       "      <td>1.0</td>\n",
       "      <td>1.0</td>\n",
       "      <td>13.0</td>\n",
       "    </tr>\n",
       "    <tr>\n",
       "      <th>983</th>\n",
       "      <td>1.0</td>\n",
       "      <td>1.0</td>\n",
       "      <td>14.0</td>\n",
       "    </tr>\n",
       "  </tbody>\n",
       "</table>\n",
       "<p>984 rows × 3 columns</p>\n",
       "</div>"
      ],
      "text/plain": [
       "       0    1     2\n",
       "0    2.0  5.0  16.0\n",
       "1    2.0  5.0   0.0\n",
       "2    2.0  5.0  25.0\n",
       "3    2.0  5.0  29.0\n",
       "4    2.0  5.0  26.0\n",
       "..   ...  ...   ...\n",
       "979  1.0  4.0  17.0\n",
       "980  1.0  1.0   5.0\n",
       "981  1.0  1.0   4.0\n",
       "982  1.0  1.0  13.0\n",
       "983  1.0  1.0  14.0\n",
       "\n",
       "[984 rows x 3 columns]"
      ]
     },
     "execution_count": 26,
     "metadata": {},
     "output_type": "execute_result"
    }
   ],
   "source": [
    "from sklearn.preprocessing import OrdinalEncoder\n",
    "enc = OrdinalEncoder()\n",
    "res = pd.DataFrame(enc.fit_transform(X))\n",
    "res"
   ]
  },
  {
   "cell_type": "code",
   "execution_count": 27,
   "id": "fbd52e31",
   "metadata": {},
   "outputs": [
    {
     "name": "stdout",
     "output_type": "stream",
     "text": [
      "[ 0.10852397  0.03673558 -0.09232836 -0.12068973  0.14263871]\n"
     ]
    }
   ],
   "source": [
    "X_train_oe, X_test_oe, y_train_oe, y_test_oe = train_test_split(result, y, test_size = 0.25)\n",
    "clf_oe = regr.fit(X_train_oe, y_train_oe)\n",
    "filename = 'clf_oe.sav'\n",
    "pickle.dump(clf_oe, open(filename, 'wb'))\n",
    "scores_oe = cross_val_score(clf_oe, X_test_oe, y_test_oe,cv=5)\n",
    "print(scores_oe)"
   ]
  },
  {
   "cell_type": "code",
   "execution_count": 28,
   "id": "20f78bc2",
   "metadata": {},
   "outputs": [
    {
     "data": {
      "image/png": "[encoded data removed]",
      "text/plain": [
       "<Figure size 432x288 with 1 Axes>"
      ]
     },
     "metadata": {
      "needs_background": "light"
     },
     "output_type": "display_data"
    },
    {
     "name": "stdout",
     "output_type": "stream",
     "text": [
      "Mean : 0.014976032886018254\n",
      "Standard Deviation : 0.10530136412635187\n"
     ]
    }
   ],
   "source": [
    "import matplotlib.pyplot as plt\n",
    "import numpy as np\n",
    "plt.boxplot(scores_oe)\n",
    "plt.show()\n",
    "print('Mean :',np.mean(scores_oe))\n",
    "print('Standard Deviation :',np.std(scores_oe))"
   ]
  },
  {
   "cell_type": "markdown",
   "id": "e418ac4d",
   "metadata": {},
   "source": [
    "## 4. Gunakan kombinasi transformasi data apapun (lebih dari 2) untuk semua fitur. Lalu hitunglah akurasi model regresi linear (gunakan cross validation) untuk cara ini (dengan memakai semua fitur yang sudah tertransformasi)"
   ]
  },
  {
   "cell_type": "code",
   "execution_count": 29,
   "id": "b7d222d6",
   "metadata": {},
   "outputs": [
    {
     "name": "stdout",
     "output_type": "stream",
     "text": [
      "(986, 9)\n",
      "(985, 9)\n"
     ]
    }
   ],
   "source": [
    "print(df.shape)\n",
    "df.drop_duplicates(inplace=True)\n",
    "print(df.shape)"
   ]
  },
  {
   "cell_type": "code",
   "execution_count": 30,
   "id": "e1abe4f1",
   "metadata": {},
   "outputs": [],
   "source": [
    "df = df[df['pencapaian_kecepatan'].notna()]"
   ]
  },
  {
   "cell_type": "markdown",
   "id": "0dd96c4e",
   "metadata": {},
   "source": [
    "Encoding dengan OrdinalEncoder data kategorial"
   ]
  },
  {
   "cell_type": "code",
   "execution_count": 31,
   "id": "f64cf6a0",
   "metadata": {},
   "outputs": [
    {
     "name": "stderr",
     "output_type": "stream",
     "text": [
      "C:\\Users\\jmspa\\AppData\\Local\\Temp\\ipykernel_30636\\854654500.py:3: SettingWithCopyWarning: \n",
      "A value is trying to be set on a copy of a slice from a DataFrame.\n",
      "Try using .loc[row_indexer,col_indexer] = value instead\n",
      "\n",
      "See the caveats in the documentation: https://pandas.pydata.org/pandas-docs/stable/user_guide/indexing.html#returning-a-view-versus-a-copy\n",
      "  df[['waktu','arah','koridor']] = enc.fit_transform(df[['waktu','arah','koridor']])\n"
     ]
    },
    {
     "data": {
      "text/html": [
       "<div>\n",
       "<style scoped>\n",
       "    .dataframe tbody tr th:only-of-type {\n",
       "        vertical-align: middle;\n",
       "    }\n",
       "\n",
       "    .dataframe tbody tr th {\n",
       "        vertical-align: top;\n",
       "    }\n",
       "\n",
       "    .dataframe thead th {\n",
       "        text-align: right;\n",
       "    }\n",
       "</style>\n",
       "<table border=\"1\" class=\"dataframe\">\n",
       "  <thead>\n",
       "    <tr style=\"text-align: right;\">\n",
       "      <th></th>\n",
       "      <th>waktu</th>\n",
       "      <th>arah</th>\n",
       "      <th>koridor</th>\n",
       "      <th>target_kecepatan</th>\n",
       "      <th>jarak</th>\n",
       "      <th>target_waktu_tempuh</th>\n",
       "      <th>pencapaian_kecepatan_per_koridor</th>\n",
       "      <th>pencapaian_kecepatan</th>\n",
       "      <th>pencapaian_waktu_tempuh</th>\n",
       "    </tr>\n",
       "  </thead>\n",
       "  <tbody>\n",
       "    <tr>\n",
       "      <th>0</th>\n",
       "      <td>2.0</td>\n",
       "      <td>5.0</td>\n",
       "      <td>16.0</td>\n",
       "      <td>20.5</td>\n",
       "      <td>19.62</td>\n",
       "      <td>57.43</td>\n",
       "      <td>22.70</td>\n",
       "      <td>22.98</td>\n",
       "      <td>63.83</td>\n",
       "    </tr>\n",
       "    <tr>\n",
       "      <th>1</th>\n",
       "      <td>2.0</td>\n",
       "      <td>5.0</td>\n",
       "      <td>0.0</td>\n",
       "      <td>20.5</td>\n",
       "      <td>13.36</td>\n",
       "      <td>39.10</td>\n",
       "      <td>25.43</td>\n",
       "      <td>22.98</td>\n",
       "      <td>37.71</td>\n",
       "    </tr>\n",
       "    <tr>\n",
       "      <th>2</th>\n",
       "      <td>2.0</td>\n",
       "      <td>5.0</td>\n",
       "      <td>25.0</td>\n",
       "      <td>20.5</td>\n",
       "      <td>11.13</td>\n",
       "      <td>32.58</td>\n",
       "      <td>27.54</td>\n",
       "      <td>22.98</td>\n",
       "      <td>26.99</td>\n",
       "    </tr>\n",
       "    <tr>\n",
       "      <th>3</th>\n",
       "      <td>2.0</td>\n",
       "      <td>5.0</td>\n",
       "      <td>29.0</td>\n",
       "      <td>20.5</td>\n",
       "      <td>16.25</td>\n",
       "      <td>47.56</td>\n",
       "      <td>22.20</td>\n",
       "      <td>22.98</td>\n",
       "      <td>50.82</td>\n",
       "    </tr>\n",
       "    <tr>\n",
       "      <th>4</th>\n",
       "      <td>2.0</td>\n",
       "      <td>5.0</td>\n",
       "      <td>26.0</td>\n",
       "      <td>20.5</td>\n",
       "      <td>15.87</td>\n",
       "      <td>46.45</td>\n",
       "      <td>25.99</td>\n",
       "      <td>22.98</td>\n",
       "      <td>42.06</td>\n",
       "    </tr>\n",
       "    <tr>\n",
       "      <th>...</th>\n",
       "      <td>...</td>\n",
       "      <td>...</td>\n",
       "      <td>...</td>\n",
       "      <td>...</td>\n",
       "      <td>...</td>\n",
       "      <td>...</td>\n",
       "      <td>...</td>\n",
       "      <td>...</td>\n",
       "      <td>...</td>\n",
       "    </tr>\n",
       "    <tr>\n",
       "      <th>981</th>\n",
       "      <td>1.0</td>\n",
       "      <td>4.0</td>\n",
       "      <td>17.0</td>\n",
       "      <td>23.0</td>\n",
       "      <td>20.29</td>\n",
       "      <td>52.93</td>\n",
       "      <td>21.16</td>\n",
       "      <td>22.49</td>\n",
       "      <td>58.65</td>\n",
       "    </tr>\n",
       "    <tr>\n",
       "      <th>982</th>\n",
       "      <td>1.0</td>\n",
       "      <td>1.0</td>\n",
       "      <td>5.0</td>\n",
       "      <td>23.0</td>\n",
       "      <td>14.47</td>\n",
       "      <td>37.75</td>\n",
       "      <td>20.72</td>\n",
       "      <td>21.67</td>\n",
       "      <td>46.75</td>\n",
       "    </tr>\n",
       "    <tr>\n",
       "      <th>983</th>\n",
       "      <td>1.0</td>\n",
       "      <td>1.0</td>\n",
       "      <td>4.0</td>\n",
       "      <td>23.0</td>\n",
       "      <td>15.55</td>\n",
       "      <td>40.57</td>\n",
       "      <td>18.11</td>\n",
       "      <td>21.67</td>\n",
       "      <td>54.13</td>\n",
       "    </tr>\n",
       "    <tr>\n",
       "      <th>984</th>\n",
       "      <td>1.0</td>\n",
       "      <td>1.0</td>\n",
       "      <td>13.0</td>\n",
       "      <td>23.0</td>\n",
       "      <td>17.43</td>\n",
       "      <td>45.47</td>\n",
       "      <td>24.61</td>\n",
       "      <td>21.67</td>\n",
       "      <td>50.71</td>\n",
       "    </tr>\n",
       "    <tr>\n",
       "      <th>985</th>\n",
       "      <td>1.0</td>\n",
       "      <td>1.0</td>\n",
       "      <td>14.0</td>\n",
       "      <td>23.0</td>\n",
       "      <td>16.23</td>\n",
       "      <td>42.34</td>\n",
       "      <td>23.22</td>\n",
       "      <td>21.67</td>\n",
       "      <td>48.24</td>\n",
       "    </tr>\n",
       "  </tbody>\n",
       "</table>\n",
       "<p>984 rows × 9 columns</p>\n",
       "</div>"
      ],
      "text/plain": [
       "     waktu  arah  koridor  target_kecepatan  jarak  target_waktu_tempuh  \\\n",
       "0      2.0   5.0     16.0              20.5  19.62                57.43   \n",
       "1      2.0   5.0      0.0              20.5  13.36                39.10   \n",
       "2      2.0   5.0     25.0              20.5  11.13                32.58   \n",
       "3      2.0   5.0     29.0              20.5  16.25                47.56   \n",
       "4      2.0   5.0     26.0              20.5  15.87                46.45   \n",
       "..     ...   ...      ...               ...    ...                  ...   \n",
       "981    1.0   4.0     17.0              23.0  20.29                52.93   \n",
       "982    1.0   1.0      5.0              23.0  14.47                37.75   \n",
       "983    1.0   1.0      4.0              23.0  15.55                40.57   \n",
       "984    1.0   1.0     13.0              23.0  17.43                45.47   \n",
       "985    1.0   1.0     14.0              23.0  16.23                42.34   \n",
       "\n",
       "     pencapaian_kecepatan_per_koridor  pencapaian_kecepatan  \\\n",
       "0                               22.70                 22.98   \n",
       "1                               25.43                 22.98   \n",
       "2                               27.54                 22.98   \n",
       "3                               22.20                 22.98   \n",
       "4                               25.99                 22.98   \n",
       "..                                ...                   ...   \n",
       "981                             21.16                 22.49   \n",
       "982                             20.72                 21.67   \n",
       "983                             18.11                 21.67   \n",
       "984                             24.61                 21.67   \n",
       "985                             23.22                 21.67   \n",
       "\n",
       "     pencapaian_waktu_tempuh  \n",
       "0                      63.83  \n",
       "1                      37.71  \n",
       "2                      26.99  \n",
       "3                      50.82  \n",
       "4                      42.06  \n",
       "..                       ...  \n",
       "981                    58.65  \n",
       "982                    46.75  \n",
       "983                    54.13  \n",
       "984                    50.71  \n",
       "985                    48.24  \n",
       "\n",
       "[984 rows x 9 columns]"
      ]
     },
     "execution_count": 31,
     "metadata": {},
     "output_type": "execute_result"
    }
   ],
   "source": [
    "from sklearn.preprocessing import OrdinalEncoder\n",
    "enc = OrdinalEncoder()\n",
    "df[['waktu','arah','koridor']] = enc.fit_transform(df[['waktu','arah','koridor']])\n",
    "df"
   ]
  },
  {
   "cell_type": "markdown",
   "id": "17a10cd8",
   "metadata": {},
   "source": [
    "Imputasi KNN"
   ]
  },
  {
   "cell_type": "code",
   "execution_count": 32,
   "id": "65e88f3a",
   "metadata": {},
   "outputs": [
    {
     "data": {
      "text/plain": [
       "array([[ 2.  ,  5.  , 16.  , ..., 57.43, 22.7 , 63.83],\n",
       "       [ 2.  ,  5.  ,  0.  , ..., 39.1 , 25.43, 37.71],\n",
       "       [ 2.  ,  5.  , 25.  , ..., 32.58, 27.54, 26.99],\n",
       "       ...,\n",
       "       [ 1.  ,  1.  ,  4.  , ..., 40.57, 18.11, 54.13],\n",
       "       [ 1.  ,  1.  , 13.  , ..., 45.47, 24.61, 50.71],\n",
       "       [ 1.  ,  1.  , 14.  , ..., 42.34, 23.22, 48.24]])"
      ]
     },
     "execution_count": 32,
     "metadata": {},
     "output_type": "execute_result"
    }
   ],
   "source": [
    "from sklearn.impute import KNNImputer\n",
    "X,y = df.loc[:, df.columns != 'pencapaian_kecepatan'],df['pencapaian_kecepatan']\n",
    "imputer = KNNImputer()\n",
    "imputer.fit(X)\n",
    "Xtrans = imputer.transform(X)\n",
    "Xtrans"
   ]
  },
  {
   "cell_type": "code",
   "execution_count": 33,
   "id": "be84f07a",
   "metadata": {},
   "outputs": [
    {
     "data": {
      "text/html": [
       "<div>\n",
       "<style scoped>\n",
       "    .dataframe tbody tr th:only-of-type {\n",
       "        vertical-align: middle;\n",
       "    }\n",
       "\n",
       "    .dataframe tbody tr th {\n",
       "        vertical-align: top;\n",
       "    }\n",
       "\n",
       "    .dataframe thead th {\n",
       "        text-align: right;\n",
       "    }\n",
       "</style>\n",
       "<table border=\"1\" class=\"dataframe\">\n",
       "  <thead>\n",
       "    <tr style=\"text-align: right;\">\n",
       "      <th></th>\n",
       "      <th>waktu</th>\n",
       "      <th>arah</th>\n",
       "      <th>koridor</th>\n",
       "      <th>target_kecepatan</th>\n",
       "      <th>jarak</th>\n",
       "      <th>target_waktu_tempuh</th>\n",
       "      <th>pencapaian_kecepatan_per_koridor</th>\n",
       "      <th>pencapaian_waktu_tempuh</th>\n",
       "    </tr>\n",
       "  </thead>\n",
       "  <tbody>\n",
       "    <tr>\n",
       "      <th>0</th>\n",
       "      <td>2.0</td>\n",
       "      <td>5.0</td>\n",
       "      <td>16.0</td>\n",
       "      <td>20.5</td>\n",
       "      <td>19.62</td>\n",
       "      <td>57.43</td>\n",
       "      <td>22.70</td>\n",
       "      <td>63.83</td>\n",
       "    </tr>\n",
       "    <tr>\n",
       "      <th>1</th>\n",
       "      <td>2.0</td>\n",
       "      <td>5.0</td>\n",
       "      <td>0.0</td>\n",
       "      <td>20.5</td>\n",
       "      <td>13.36</td>\n",
       "      <td>39.10</td>\n",
       "      <td>25.43</td>\n",
       "      <td>37.71</td>\n",
       "    </tr>\n",
       "    <tr>\n",
       "      <th>2</th>\n",
       "      <td>2.0</td>\n",
       "      <td>5.0</td>\n",
       "      <td>25.0</td>\n",
       "      <td>20.5</td>\n",
       "      <td>11.13</td>\n",
       "      <td>32.58</td>\n",
       "      <td>27.54</td>\n",
       "      <td>26.99</td>\n",
       "    </tr>\n",
       "    <tr>\n",
       "      <th>3</th>\n",
       "      <td>2.0</td>\n",
       "      <td>5.0</td>\n",
       "      <td>29.0</td>\n",
       "      <td>20.5</td>\n",
       "      <td>16.25</td>\n",
       "      <td>47.56</td>\n",
       "      <td>22.20</td>\n",
       "      <td>50.82</td>\n",
       "    </tr>\n",
       "    <tr>\n",
       "      <th>4</th>\n",
       "      <td>2.0</td>\n",
       "      <td>5.0</td>\n",
       "      <td>26.0</td>\n",
       "      <td>20.5</td>\n",
       "      <td>15.87</td>\n",
       "      <td>46.45</td>\n",
       "      <td>25.99</td>\n",
       "      <td>42.06</td>\n",
       "    </tr>\n",
       "    <tr>\n",
       "      <th>...</th>\n",
       "      <td>...</td>\n",
       "      <td>...</td>\n",
       "      <td>...</td>\n",
       "      <td>...</td>\n",
       "      <td>...</td>\n",
       "      <td>...</td>\n",
       "      <td>...</td>\n",
       "      <td>...</td>\n",
       "    </tr>\n",
       "    <tr>\n",
       "      <th>979</th>\n",
       "      <td>1.0</td>\n",
       "      <td>4.0</td>\n",
       "      <td>17.0</td>\n",
       "      <td>23.0</td>\n",
       "      <td>20.29</td>\n",
       "      <td>52.93</td>\n",
       "      <td>21.16</td>\n",
       "      <td>58.65</td>\n",
       "    </tr>\n",
       "    <tr>\n",
       "      <th>980</th>\n",
       "      <td>1.0</td>\n",
       "      <td>1.0</td>\n",
       "      <td>5.0</td>\n",
       "      <td>23.0</td>\n",
       "      <td>14.47</td>\n",
       "      <td>37.75</td>\n",
       "      <td>20.72</td>\n",
       "      <td>46.75</td>\n",
       "    </tr>\n",
       "    <tr>\n",
       "      <th>981</th>\n",
       "      <td>1.0</td>\n",
       "      <td>1.0</td>\n",
       "      <td>4.0</td>\n",
       "      <td>23.0</td>\n",
       "      <td>15.55</td>\n",
       "      <td>40.57</td>\n",
       "      <td>18.11</td>\n",
       "      <td>54.13</td>\n",
       "    </tr>\n",
       "    <tr>\n",
       "      <th>982</th>\n",
       "      <td>1.0</td>\n",
       "      <td>1.0</td>\n",
       "      <td>13.0</td>\n",
       "      <td>23.0</td>\n",
       "      <td>17.43</td>\n",
       "      <td>45.47</td>\n",
       "      <td>24.61</td>\n",
       "      <td>50.71</td>\n",
       "    </tr>\n",
       "    <tr>\n",
       "      <th>983</th>\n",
       "      <td>1.0</td>\n",
       "      <td>1.0</td>\n",
       "      <td>14.0</td>\n",
       "      <td>23.0</td>\n",
       "      <td>16.23</td>\n",
       "      <td>42.34</td>\n",
       "      <td>23.22</td>\n",
       "      <td>48.24</td>\n",
       "    </tr>\n",
       "  </tbody>\n",
       "</table>\n",
       "<p>984 rows × 8 columns</p>\n",
       "</div>"
      ],
      "text/plain": [
       "     waktu  arah  koridor  target_kecepatan  jarak  target_waktu_tempuh  \\\n",
       "0      2.0   5.0     16.0              20.5  19.62                57.43   \n",
       "1      2.0   5.0      0.0              20.5  13.36                39.10   \n",
       "2      2.0   5.0     25.0              20.5  11.13                32.58   \n",
       "3      2.0   5.0     29.0              20.5  16.25                47.56   \n",
       "4      2.0   5.0     26.0              20.5  15.87                46.45   \n",
       "..     ...   ...      ...               ...    ...                  ...   \n",
       "979    1.0   4.0     17.0              23.0  20.29                52.93   \n",
       "980    1.0   1.0      5.0              23.0  14.47                37.75   \n",
       "981    1.0   1.0      4.0              23.0  15.55                40.57   \n",
       "982    1.0   1.0     13.0              23.0  17.43                45.47   \n",
       "983    1.0   1.0     14.0              23.0  16.23                42.34   \n",
       "\n",
       "     pencapaian_kecepatan_per_koridor  pencapaian_waktu_tempuh  \n",
       "0                               22.70                    63.83  \n",
       "1                               25.43                    37.71  \n",
       "2                               27.54                    26.99  \n",
       "3                               22.20                    50.82  \n",
       "4                               25.99                    42.06  \n",
       "..                                ...                      ...  \n",
       "979                             21.16                    58.65  \n",
       "980                             20.72                    46.75  \n",
       "981                             18.11                    54.13  \n",
       "982                             24.61                    50.71  \n",
       "983                             23.22                    48.24  \n",
       "\n",
       "[984 rows x 8 columns]"
      ]
     },
     "execution_count": 33,
     "metadata": {},
     "output_type": "execute_result"
    }
   ],
   "source": [
    "Xtrans = pd.DataFrame(Xtrans)\n",
    "Xtrans.columns=['waktu','arah','koridor','target_kecepatan','jarak','target_waktu_tempuh','pencapaian_kecepatan_per_koridor','pencapaian_waktu_tempuh']\n",
    "Xtrans"
   ]
  },
  {
   "cell_type": "markdown",
   "id": "d8953368",
   "metadata": {},
   "source": [
    "Karena model regresi linear berperforma baik jika data terdistribusi secara gaussian maka saya mentranformasi distribusi data menjadi gaussian terlebih dahulu menggunakan metode yeo-johnson. Karena fungsi PowerTransformer sudah secara default terstandarisasi maka saya tidak melakukan standarisasi lagi."
   ]
  },
  {
   "cell_type": "code",
   "execution_count": 34,
   "id": "bf958987",
   "metadata": {},
   "outputs": [],
   "source": [
    "import seaborn as sns\n",
    "def plots(df, var,t):\n",
    "    plt.figure(figsize=(13,5))\n",
    "    plt.subplot(121)\n",
    "    sns.kdeplot(df[var])\n",
    "    plt.title('before'+str(t).split('(')[0])\n",
    "    \n",
    "    plt.subplot(122)\n",
    "    p1 = t.fit_transform(df[[var]]).flatten()\n",
    "    sns.kdeplot(p1)\n",
    "    plt.title('after'+str(t).split('(')[0])\n",
    "    df[var]=p1\n",
    "    return df"
   ]
  },
  {
   "cell_type": "code",
   "execution_count": 35,
   "id": "468b99cc",
   "metadata": {},
   "outputs": [
    {
     "data": {
      "image/png": "[encoded data removed]",
      "text/plain": [
       "<Figure size 936x360 with 2 Axes>"
      ]
     },
     "metadata": {
      "needs_background": "light"
     },
     "output_type": "display_data"
    },
    {
     "data": {
      "image/png": "[encoded data removed]",
      "text/plain": [
       "<Figure size 936x360 with 2 Axes>"
      ]
     },
     "metadata": {
      "needs_background": "light"
     },
     "output_type": "display_data"
    },
    {
     "data": {
      "image/png": "[encoded data removed]",
      "text/plain": [
       "<Figure size 936x360 with 2 Axes>"
      ]
     },
     "metadata": {
      "needs_background": "light"
     },
     "output_type": "display_data"
    },
    {
     "data": {
      "image/png": "[encoded data removed]",
      "text/plain": [
       "<Figure size 936x360 with 2 Axes>"
      ]
     },
     "metadata": {
      "needs_background": "light"
     },
     "output_type": "display_data"
    },
    {
     "data": {
      "image/png": "[encoded data removed]",
      "text/plain": [
       "<Figure size 936x360 with 2 Axes>"
      ]
     },
     "metadata": {
      "needs_background": "light"
     },
     "output_type": "display_data"
    },
    {
     "data": {
      "image/png": "[encoded data removed]",
      "text/plain": [
       "<Figure size 936x360 with 2 Axes>"
      ]
     },
     "metadata": {
      "needs_background": "light"
     },
     "output_type": "display_data"
    },
    {
     "data": {
      "image/png": "[encoded data removed]",
      "text/plain": [
       "<Figure size 936x360 with 2 Axes>"
      ]
     },
     "metadata": {
      "needs_background": "light"
     },
     "output_type": "display_data"
    },
    {
     "data": {
      "image/png": "[encoded data removed]",
      "text/plain": [
       "<Figure size 936x360 with 2 Axes>"
      ]
     },
     "metadata": {
      "needs_background": "light"
     },
     "output_type": "display_data"
    }
   ],
   "source": [
    "from sklearn.preprocessing import PowerTransformer\n",
    "for col in Xtrans.columns:\n",
    "    new_X = plots(Xtrans,col,PowerTransformer(method='yeo-johnson'))\n"
   ]
  },
  {
   "cell_type": "code",
   "execution_count": 36,
   "id": "071fab31",
   "metadata": {},
   "outputs": [
    {
     "data": {
      "text/html": [
       "<div>\n",
       "<style scoped>\n",
       "    .dataframe tbody tr th:only-of-type {\n",
       "        vertical-align: middle;\n",
       "    }\n",
       "\n",
       "    .dataframe tbody tr th {\n",
       "        vertical-align: top;\n",
       "    }\n",
       "\n",
       "    .dataframe thead th {\n",
       "        text-align: right;\n",
       "    }\n",
       "</style>\n",
       "<table border=\"1\" class=\"dataframe\">\n",
       "  <thead>\n",
       "    <tr style=\"text-align: right;\">\n",
       "      <th></th>\n",
       "      <th>waktu</th>\n",
       "      <th>arah</th>\n",
       "      <th>koridor</th>\n",
       "      <th>target_kecepatan</th>\n",
       "      <th>jarak</th>\n",
       "      <th>target_waktu_tempuh</th>\n",
       "      <th>pencapaian_kecepatan_per_koridor</th>\n",
       "      <th>pencapaian_waktu_tempuh</th>\n",
       "    </tr>\n",
       "  </thead>\n",
       "  <tbody>\n",
       "    <tr>\n",
       "      <th>0</th>\n",
       "      <td>-0.666914</td>\n",
       "      <td>0.527451</td>\n",
       "      <td>-0.238369</td>\n",
       "      <td>-0.602958</td>\n",
       "      <td>1.467936</td>\n",
       "      <td>1.607519</td>\n",
       "      <td>-0.513708</td>\n",
       "      <td>1.575882</td>\n",
       "    </tr>\n",
       "    <tr>\n",
       "      <th>1</th>\n",
       "      <td>-0.666914</td>\n",
       "      <td>0.527451</td>\n",
       "      <td>-1.979661</td>\n",
       "      <td>-0.602958</td>\n",
       "      <td>-0.521217</td>\n",
       "      <td>-0.317786</td>\n",
       "      <td>0.025358</td>\n",
       "      <td>-0.202761</td>\n",
       "    </tr>\n",
       "    <tr>\n",
       "      <th>2</th>\n",
       "      <td>-0.666914</td>\n",
       "      <td>0.527451</td>\n",
       "      <td>0.479721</td>\n",
       "      <td>-0.602958</td>\n",
       "      <td>-1.311393</td>\n",
       "      <td>-1.103138</td>\n",
       "      <td>0.405741</td>\n",
       "      <td>-1.153882</td>\n",
       "    </tr>\n",
       "    <tr>\n",
       "      <th>3</th>\n",
       "      <td>-0.666914</td>\n",
       "      <td>0.527451</td>\n",
       "      <td>0.775593</td>\n",
       "      <td>-0.602958</td>\n",
       "      <td>0.432975</td>\n",
       "      <td>0.614349</td>\n",
       "      <td>-0.619017</td>\n",
       "      <td>0.759936</td>\n",
       "    </tr>\n",
       "    <tr>\n",
       "      <th>4</th>\n",
       "      <td>-0.666914</td>\n",
       "      <td>0.527451</td>\n",
       "      <td>0.554808</td>\n",
       "      <td>-0.602958</td>\n",
       "      <td>0.311385</td>\n",
       "      <td>0.496784</td>\n",
       "      <td>0.129144</td>\n",
       "      <td>0.136322</td>\n",
       "    </tr>\n",
       "    <tr>\n",
       "      <th>...</th>\n",
       "      <td>...</td>\n",
       "      <td>...</td>\n",
       "      <td>...</td>\n",
       "      <td>...</td>\n",
       "      <td>...</td>\n",
       "      <td>...</td>\n",
       "      <td>...</td>\n",
       "      <td>...</td>\n",
       "    </tr>\n",
       "    <tr>\n",
       "      <th>979</th>\n",
       "      <td>-1.697187</td>\n",
       "      <td>0.152051</td>\n",
       "      <td>-0.154102</td>\n",
       "      <td>1.265768</td>\n",
       "      <td>1.665373</td>\n",
       "      <td>1.165643</td>\n",
       "      <td>-0.845396</td>\n",
       "      <td>1.264322</td>\n",
       "    </tr>\n",
       "    <tr>\n",
       "      <th>980</th>\n",
       "      <td>-1.697187</td>\n",
       "      <td>-1.187000</td>\n",
       "      <td>-1.295452</td>\n",
       "      <td>1.265768</td>\n",
       "      <td>-0.146367</td>\n",
       "      <td>-0.475022</td>\n",
       "      <td>-0.944331</td>\n",
       "      <td>0.479011</td>\n",
       "    </tr>\n",
       "    <tr>\n",
       "      <th>981</th>\n",
       "      <td>-1.697187</td>\n",
       "      <td>-1.187000</td>\n",
       "      <td>-1.411742</td>\n",
       "      <td>1.265768</td>\n",
       "      <td>0.208141</td>\n",
       "      <td>-0.149451</td>\n",
       "      <td>-1.575061</td>\n",
       "      <td>0.978524</td>\n",
       "    </tr>\n",
       "    <tr>\n",
       "      <th>982</th>\n",
       "      <td>-1.697187</td>\n",
       "      <td>-1.187000</td>\n",
       "      <td>-0.499975</td>\n",
       "      <td>1.265768</td>\n",
       "      <td>0.803876</td>\n",
       "      <td>0.391880</td>\n",
       "      <td>-0.130580</td>\n",
       "      <td>0.752525</td>\n",
       "    </tr>\n",
       "    <tr>\n",
       "      <th>983</th>\n",
       "      <td>-1.697187</td>\n",
       "      <td>-1.187000</td>\n",
       "      <td>-0.411185</td>\n",
       "      <td>1.265768</td>\n",
       "      <td>0.426602</td>\n",
       "      <td>0.049472</td>\n",
       "      <td>-0.406477</td>\n",
       "      <td>0.583509</td>\n",
       "    </tr>\n",
       "  </tbody>\n",
       "</table>\n",
       "<p>984 rows × 8 columns</p>\n",
       "</div>"
      ],
      "text/plain": [
       "        waktu      arah   koridor  target_kecepatan     jarak  \\\n",
       "0   -0.666914  0.527451 -0.238369         -0.602958  1.467936   \n",
       "1   -0.666914  0.527451 -1.979661         -0.602958 -0.521217   \n",
       "2   -0.666914  0.527451  0.479721         -0.602958 -1.311393   \n",
       "3   -0.666914  0.527451  0.775593         -0.602958  0.432975   \n",
       "4   -0.666914  0.527451  0.554808         -0.602958  0.311385   \n",
       "..        ...       ...       ...               ...       ...   \n",
       "979 -1.697187  0.152051 -0.154102          1.265768  1.665373   \n",
       "980 -1.697187 -1.187000 -1.295452          1.265768 -0.146367   \n",
       "981 -1.697187 -1.187000 -1.411742          1.265768  0.208141   \n",
       "982 -1.697187 -1.187000 -0.499975          1.265768  0.803876   \n",
       "983 -1.697187 -1.187000 -0.411185          1.265768  0.426602   \n",
       "\n",
       "     target_waktu_tempuh  pencapaian_kecepatan_per_koridor  \\\n",
       "0               1.607519                         -0.513708   \n",
       "1              -0.317786                          0.025358   \n",
       "2              -1.103138                          0.405741   \n",
       "3               0.614349                         -0.619017   \n",
       "4               0.496784                          0.129144   \n",
       "..                   ...                               ...   \n",
       "979             1.165643                         -0.845396   \n",
       "980            -0.475022                         -0.944331   \n",
       "981            -0.149451                         -1.575061   \n",
       "982             0.391880                         -0.130580   \n",
       "983             0.049472                         -0.406477   \n",
       "\n",
       "     pencapaian_waktu_tempuh  \n",
       "0                   1.575882  \n",
       "1                  -0.202761  \n",
       "2                  -1.153882  \n",
       "3                   0.759936  \n",
       "4                   0.136322  \n",
       "..                       ...  \n",
       "979                 1.264322  \n",
       "980                 0.479011  \n",
       "981                 0.978524  \n",
       "982                 0.752525  \n",
       "983                 0.583509  \n",
       "\n",
       "[984 rows x 8 columns]"
      ]
     },
     "execution_count": 36,
     "metadata": {},
     "output_type": "execute_result"
    }
   ],
   "source": [
    "new_X"
   ]
  },
  {
   "cell_type": "markdown",
   "id": "869b9898",
   "metadata": {},
   "source": [
    "dapat dilihat bahwa data sudah tertransformasi menjadi lebih gaussian dan terstandarisasi"
   ]
  },
  {
   "cell_type": "code",
   "execution_count": 37,
   "id": "68e943fb",
   "metadata": {},
   "outputs": [
    {
     "name": "stdout",
     "output_type": "stream",
     "text": [
      "[0.67164161 0.47989553 0.74604574 0.74577476 0.47210138]\n"
     ]
    }
   ],
   "source": [
    "X_train_final, X_test_final, y_train_final, y_test_final = train_test_split(new_X, y, test_size = 0.25)\n",
    "clf_final = regr.fit(X_train_final, y_train_final)\n",
    "filename = 'clf_final.sav'\n",
    "pickle.dump(clf_final, open(filename, 'wb'))\n",
    "scores_final = cross_val_score(clf_final, X_test_final, y_test_final,cv=5)\n",
    "print(scores_final)"
   ]
  },
  {
   "cell_type": "code",
   "execution_count": 38,
   "id": "fd6541a1",
   "metadata": {},
   "outputs": [
    {
     "data": {
      "image/png": "[encoded data removed]",
      "text/plain": [
       "<Figure size 432x288 with 1 Axes>"
      ]
     },
     "metadata": {
      "needs_background": "light"
     },
     "output_type": "display_data"
    },
    {
     "name": "stdout",
     "output_type": "stream",
     "text": [
      "Mean : 0.6230918030165239\n",
      "Standard Deviation : 0.12314961686186345\n"
     ]
    }
   ],
   "source": [
    "plt.boxplot(scores_final)\n",
    "plt.show()\n",
    "print('Mean :',np.mean(scores_final))\n",
    "print('Standard Deviation :',np.std(scores_final))"
   ]
  },
  {
   "cell_type": "markdown",
   "id": "e3ed2738",
   "metadata": {},
   "source": [
    "## 6. Bandingkan akurasi setiap skenario (dengan metrik MAE)"
   ]
  },
  {
   "cell_type": "code",
   "execution_count": 40,
   "id": "95fa4eab",
   "metadata": {},
   "outputs": [
    {
     "name": "stdout",
     "output_type": "stream",
     "text": [
      "MAE Raw Data : 1.8857564330558512\n",
      "MAE Normalisasi : 2.0503001206609577\n",
      "MAE Standarisasi : 1.9123896655701969\n",
      "MAE Robust Scaler : 1.9073515100825713\n",
      "MAE Onehot Encoder : 3.11822662601626\n",
      "MAE Ordinal Encoder : 3.286412601626016\n",
      "MAE Final : 1.9959834787192394\n"
     ]
    }
   ],
   "source": [
    "from sklearn.metrics import mean_absolute_error\n",
    "\n",
    "clf_raw = pickle.load(open('clf_raw.sav', 'rb'))\n",
    "clf_norm = pickle.load(open('clf_norm.sav', 'rb'))\n",
    "clf_std = pickle.load(open('clf_std.sav', 'rb'))\n",
    "clf_rs = pickle.load(open('clf_rs.sav', 'rb'))\n",
    "clf_oh = pickle.load(open('clf_oh.sav', 'rb'))\n",
    "clf_oe = pickle.load(open('clf_oe.sav', 'rb'))\n",
    "clf_final = pickle.load(open('clf_final.sav', 'rb'))\n",
    "y_pred_raw = clf_raw.predict(X_test_raw)\n",
    "y_pred_norm = clf_norm.predict(X_test_norm)\n",
    "y_pred_std = clf_std.predict(X_test_std)\n",
    "y_pred_rs = clf_rs.predict(X_test_rs)\n",
    "y_pred_oh = clf_oh.predict(X_test_oh)\n",
    "y_pred_oe = clf_oe.predict(X_test_oe)\n",
    "y_pred_final = clf_final.predict(X_test_final)\n",
    "print('MAE Raw Data :',mean_absolute_error(y_test_raw, y_pred_raw))\n",
    "print('MAE Normalisasi :',mean_absolute_error(y_test_norm, y_pred_norm))\n",
    "print('MAE Standarisasi :',mean_absolute_error(y_test_std, y_pred_std))\n",
    "print('MAE Robust Scaler :',mean_absolute_error(y_test_rs, y_pred_rs))\n",
    "print('MAE Onehot Encoder :',mean_absolute_error(y_test_oh, y_pred_oh))\n",
    "print('MAE Ordinal Encoder :',mean_absolute_error(y_test_oe, y_pred_oe))\n",
    "print('MAE Final :',mean_absolute_error(y_test_final, y_pred_final))"
   ]
  },
  {
   "cell_type": "code",
   "execution_count": null,
   "id": "3780eb95",
   "metadata": {},
   "outputs": [],
   "source": []
  }
 ],
 "metadata": {
  "kernelspec": {
   "display_name": "Python 3 (ipykernel)",
   "language": "python",
   "name": "python3"
  },
  "language_info": {
   "codemirror_mode": {
    "name": "ipython",
    "version": 3
   },
   "file_extension": ".py",
   "mimetype": "text/x-python",
   "name": "python",
   "nbconvert_exporter": "python",
   "pygments_lexer": "ipython3",
   "version": "3.8.5"
  }
 },
 "nbformat": 4,
 "nbformat_minor": 5
}
